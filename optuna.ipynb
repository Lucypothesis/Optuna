{
 "cells": [
  {
   "cell_type": "code",
   "execution_count": 1,
   "metadata": {},
   "outputs": [],
   "source": [
    "import optuna"
   ]
  },
  {
   "cell_type": "code",
   "execution_count": 2,
   "metadata": {},
   "outputs": [
    {
     "data": {
      "text/plain": [
       "'4.1.0'"
      ]
     },
     "execution_count": 2,
     "metadata": {},
     "output_type": "execute_result"
    }
   ],
   "source": [
    "optuna.__version__"
   ]
  },
  {
   "cell_type": "markdown",
   "metadata": {},
   "source": [
    "# Hyperparameter Tuning with Optuna"
   ]
  },
  {
   "cell_type": "markdown",
   "metadata": {},
   "source": [
    "ML params       A 3 B 8 C 17\n",
    "\n",
    "A 1 2 3 4\n",
    "B 7 8 11\n",
    "C 12 14 17"
   ]
  },
  {
   "cell_type": "code",
   "execution_count": 3,
   "metadata": {},
   "outputs": [],
   "source": [
    "import optuna\n",
    "from sklearn.datasets import make_classification\n",
    "from sklearn.model_selection import train_test_split\n",
    "from sklearn.ensemble import RandomForestClassifier\n",
    "from sklearn.metrics import accuracy_score"
   ]
  },
  {
   "cell_type": "code",
   "execution_count": 4,
   "metadata": {},
   "outputs": [],
   "source": [
    "X, y = make_classification(n_samples=1000, n_features=20, n_informative=15, n_redundant=5)"
   ]
  },
  {
   "cell_type": "code",
   "execution_count": 5,
   "metadata": {},
   "outputs": [],
   "source": [
    "X_train, X_test, y_train, y_test = train_test_split(X, y, test_size=0.3)"
   ]
  },
  {
   "cell_type": "code",
   "execution_count": 6,
   "metadata": {},
   "outputs": [],
   "source": [
    "def objective(trial):\n",
    "    # Define hyperparametrs to tune\n",
    "    n_estimators = trial.suggest_int('n_estimators', 50, 200)\n",
    "    max_depth = trial.suggest_int('max_depth', 5, 30)\n",
    "    min_samples_split = trial.suggest_int('min_samples_split', 2, 20)\n",
    "\n",
    "    # Create and train the model with the sampled hyperparameters\n",
    "\n",
    "    model = RandomForestClassifier(n_estimators=n_estimators, max_depth=max_depth, min_samples_split=min_samples_split)\n",
    "    model.fit(X_train, y_train)\n",
    "\n",
    "    # Make predictions and evaluate the model\n",
    "    y_pred = model.predict(X_test)\n",
    "    accuracy = accuracy_score(y_test, y_pred)\n",
    "\n",
    "    return accuracy"
   ]
  },
  {
   "cell_type": "code",
   "execution_count": 7,
   "metadata": {},
   "outputs": [
    {
     "name": "stderr",
     "output_type": "stream",
     "text": [
      "[I 2025-01-14 13:42:48,202] A new study created in memory with name: no-name-ad42aacf-42bb-4aa1-8645-bd587725d5b6\n"
     ]
    }
   ],
   "source": [
    "study = optuna.create_study(direction = 'maximize')"
   ]
  },
  {
   "cell_type": "code",
   "execution_count": 8,
   "metadata": {},
   "outputs": [
    {
     "name": "stderr",
     "output_type": "stream",
     "text": [
      "[I 2025-01-14 13:42:48,300] Trial 0 finished with value: 0.88 and parameters: {'n_estimators': 81, 'max_depth': 24, 'min_samples_split': 3}. Best is trial 0 with value: 0.88.\n",
      "[I 2025-01-14 13:42:48,435] Trial 1 finished with value: 0.8766666666666667 and parameters: {'n_estimators': 125, 'max_depth': 25, 'min_samples_split': 12}. Best is trial 0 with value: 0.88.\n",
      "[I 2025-01-14 13:42:48,505] Trial 2 finished with value: 0.8733333333333333 and parameters: {'n_estimators': 65, 'max_depth': 29, 'min_samples_split': 15}. Best is trial 0 with value: 0.88.\n",
      "[I 2025-01-14 13:42:48,625] Trial 3 finished with value: 0.8766666666666667 and parameters: {'n_estimators': 108, 'max_depth': 29, 'min_samples_split': 3}. Best is trial 0 with value: 0.88.\n",
      "[I 2025-01-14 13:42:48,812] Trial 4 finished with value: 0.86 and parameters: {'n_estimators': 179, 'max_depth': 9, 'min_samples_split': 15}. Best is trial 0 with value: 0.88.\n",
      "[I 2025-01-14 13:42:48,968] Trial 5 finished with value: 0.8766666666666667 and parameters: {'n_estimators': 146, 'max_depth': 15, 'min_samples_split': 16}. Best is trial 0 with value: 0.88.\n",
      "[I 2025-01-14 13:42:49,094] Trial 6 finished with value: 0.8833333333333333 and parameters: {'n_estimators': 115, 'max_depth': 19, 'min_samples_split': 14}. Best is trial 6 with value: 0.8833333333333333.\n",
      "[I 2025-01-14 13:42:49,233] Trial 7 finished with value: 0.87 and parameters: {'n_estimators': 131, 'max_depth': 9, 'min_samples_split': 7}. Best is trial 6 with value: 0.8833333333333333.\n",
      "[I 2025-01-14 13:42:49,325] Trial 8 finished with value: 0.8733333333333333 and parameters: {'n_estimators': 85, 'max_depth': 30, 'min_samples_split': 15}. Best is trial 6 with value: 0.8833333333333333.\n",
      "[I 2025-01-14 13:42:49,451] Trial 9 finished with value: 0.88 and parameters: {'n_estimators': 117, 'max_depth': 14, 'min_samples_split': 15}. Best is trial 6 with value: 0.8833333333333333.\n",
      "[I 2025-01-14 13:42:49,666] Trial 10 finished with value: 0.8833333333333333 and parameters: {'n_estimators': 199, 'max_depth': 20, 'min_samples_split': 19}. Best is trial 6 with value: 0.8833333333333333.\n",
      "[I 2025-01-14 13:42:49,881] Trial 11 finished with value: 0.87 and parameters: {'n_estimators': 199, 'max_depth': 21, 'min_samples_split': 20}. Best is trial 6 with value: 0.8833333333333333.\n",
      "[I 2025-01-14 13:42:50,056] Trial 12 finished with value: 0.8766666666666667 and parameters: {'n_estimators': 162, 'max_depth': 19, 'min_samples_split': 20}. Best is trial 6 with value: 0.8833333333333333.\n",
      "[I 2025-01-14 13:42:50,276] Trial 13 finished with value: 0.8966666666666666 and parameters: {'n_estimators': 199, 'max_depth': 15, 'min_samples_split': 10}. Best is trial 13 with value: 0.8966666666666666.\n",
      "[I 2025-01-14 13:42:50,449] Trial 14 finished with value: 0.87 and parameters: {'n_estimators': 154, 'max_depth': 14, 'min_samples_split': 10}. Best is trial 13 with value: 0.8966666666666666.\n",
      "[I 2025-01-14 13:42:50,541] Trial 15 finished with value: 0.87 and parameters: {'n_estimators': 100, 'max_depth': 5, 'min_samples_split': 10}. Best is trial 13 with value: 0.8966666666666666.\n",
      "[I 2025-01-14 13:42:50,603] Trial 16 finished with value: 0.8866666666666667 and parameters: {'n_estimators': 51, 'max_depth': 10, 'min_samples_split': 7}. Best is trial 13 with value: 0.8966666666666666.\n",
      "[I 2025-01-14 13:42:50,674] Trial 17 finished with value: 0.8733333333333333 and parameters: {'n_estimators': 59, 'max_depth': 10, 'min_samples_split': 7}. Best is trial 13 with value: 0.8966666666666666.\n",
      "[I 2025-01-14 13:42:50,842] Trial 18 finished with value: 0.86 and parameters: {'n_estimators': 173, 'max_depth': 6, 'min_samples_split': 7}. Best is trial 13 with value: 0.8966666666666666.\n",
      "[I 2025-01-14 13:42:51,002] Trial 19 finished with value: 0.8866666666666667 and parameters: {'n_estimators': 141, 'max_depth': 12, 'min_samples_split': 5}. Best is trial 13 with value: 0.8966666666666666.\n",
      "[I 2025-01-14 13:42:51,103] Trial 20 finished with value: 0.8733333333333333 and parameters: {'n_estimators': 88, 'max_depth': 17, 'min_samples_split': 9}. Best is trial 13 with value: 0.8966666666666666.\n",
      "[I 2025-01-14 13:42:51,260] Trial 21 finished with value: 0.8766666666666667 and parameters: {'n_estimators': 140, 'max_depth': 11, 'min_samples_split': 5}. Best is trial 13 with value: 0.8966666666666666.\n",
      "[I 2025-01-14 13:42:51,323] Trial 22 finished with value: 0.8833333333333333 and parameters: {'n_estimators': 51, 'max_depth': 13, 'min_samples_split': 5}. Best is trial 13 with value: 0.8966666666666666.\n",
      "[I 2025-01-14 13:42:51,510] Trial 23 finished with value: 0.8766666666666667 and parameters: {'n_estimators': 182, 'max_depth': 7, 'min_samples_split': 5}. Best is trial 13 with value: 0.8966666666666666.\n",
      "[I 2025-01-14 13:42:51,695] Trial 24 finished with value: 0.8766666666666667 and parameters: {'n_estimators': 165, 'max_depth': 12, 'min_samples_split': 8}. Best is trial 13 with value: 0.8966666666666666.\n",
      "[I 2025-01-14 13:42:51,903] Trial 25 finished with value: 0.8833333333333333 and parameters: {'n_estimators': 187, 'max_depth': 16, 'min_samples_split': 12}. Best is trial 13 with value: 0.8966666666666666.\n",
      "[I 2025-01-14 13:42:52,051] Trial 26 finished with value: 0.8833333333333333 and parameters: {'n_estimators': 136, 'max_depth': 8, 'min_samples_split': 2}. Best is trial 13 with value: 0.8966666666666666.\n",
      "[I 2025-01-14 13:42:52,224] Trial 27 finished with value: 0.8833333333333333 and parameters: {'n_estimators': 151, 'max_depth': 12, 'min_samples_split': 6}. Best is trial 13 with value: 0.8966666666666666.\n",
      "[I 2025-01-14 13:42:52,307] Trial 28 finished with value: 0.8766666666666667 and parameters: {'n_estimators': 71, 'max_depth': 17, 'min_samples_split': 9}. Best is trial 13 with value: 0.8966666666666666.\n",
      "[I 2025-01-14 13:42:52,431] Trial 29 finished with value: 0.87 and parameters: {'n_estimators': 101, 'max_depth': 23, 'min_samples_split': 4}. Best is trial 13 with value: 0.8966666666666666.\n",
      "[I 2025-01-14 13:42:52,538] Trial 30 finished with value: 0.8833333333333333 and parameters: {'n_estimators': 94, 'max_depth': 11, 'min_samples_split': 11}. Best is trial 13 with value: 0.8966666666666666.\n",
      "[I 2025-01-14 13:42:52,624] Trial 31 finished with value: 0.8766666666666667 and parameters: {'n_estimators': 74, 'max_depth': 19, 'min_samples_split': 13}. Best is trial 13 with value: 0.8966666666666666.\n",
      "[I 2025-01-14 13:42:52,758] Trial 32 finished with value: 0.8833333333333333 and parameters: {'n_estimators': 118, 'max_depth': 22, 'min_samples_split': 13}. Best is trial 13 with value: 0.8966666666666666.\n",
      "[I 2025-01-14 13:42:52,886] Trial 33 finished with value: 0.8766666666666667 and parameters: {'n_estimators': 113, 'max_depth': 15, 'min_samples_split': 17}. Best is trial 13 with value: 0.8966666666666666.\n",
      "[I 2025-01-14 13:42:53,033] Trial 34 finished with value: 0.8733333333333333 and parameters: {'n_estimators': 124, 'max_depth': 18, 'min_samples_split': 13}. Best is trial 13 with value: 0.8966666666666666.\n",
      "[I 2025-01-14 13:42:53,129] Trial 35 finished with value: 0.8733333333333333 and parameters: {'n_estimators': 79, 'max_depth': 24, 'min_samples_split': 3}. Best is trial 13 with value: 0.8966666666666666.\n",
      "[I 2025-01-14 13:42:53,331] Trial 36 finished with value: 0.8833333333333333 and parameters: {'n_estimators': 163, 'max_depth': 27, 'min_samples_split': 8}. Best is trial 13 with value: 0.8966666666666666.\n",
      "[I 2025-01-14 13:42:53,544] Trial 37 finished with value: 0.88 and parameters: {'n_estimators': 189, 'max_depth': 13, 'min_samples_split': 11}. Best is trial 13 with value: 0.8966666666666666.\n",
      "[I 2025-01-14 13:42:53,665] Trial 38 finished with value: 0.8666666666666667 and parameters: {'n_estimators': 106, 'max_depth': 9, 'min_samples_split': 6}. Best is trial 13 with value: 0.8966666666666666.\n",
      "[I 2025-01-14 13:42:53,814] Trial 39 finished with value: 0.8733333333333333 and parameters: {'n_estimators': 134, 'max_depth': 15, 'min_samples_split': 17}. Best is trial 13 with value: 0.8966666666666666.\n",
      "[I 2025-01-14 13:42:53,890] Trial 40 finished with value: 0.8766666666666667 and parameters: {'n_estimators': 61, 'max_depth': 16, 'min_samples_split': 2}. Best is trial 13 with value: 0.8966666666666666.\n",
      "[I 2025-01-14 13:42:54,106] Trial 41 finished with value: 0.8666666666666667 and parameters: {'n_estimators': 198, 'max_depth': 20, 'min_samples_split': 19}. Best is trial 13 with value: 0.8966666666666666.\n",
      "[I 2025-01-14 13:42:54,296] Trial 42 finished with value: 0.8666666666666667 and parameters: {'n_estimators': 174, 'max_depth': 21, 'min_samples_split': 18}. Best is trial 13 with value: 0.8966666666666666.\n",
      "[I 2025-01-14 13:42:54,508] Trial 43 finished with value: 0.8766666666666667 and parameters: {'n_estimators': 191, 'max_depth': 19, 'min_samples_split': 14}. Best is trial 13 with value: 0.8966666666666666.\n",
      "[I 2025-01-14 13:42:54,735] Trial 44 finished with value: 0.88 and parameters: {'n_estimators': 200, 'max_depth': 25, 'min_samples_split': 9}. Best is trial 13 with value: 0.8966666666666666.\n",
      "[I 2025-01-14 13:42:54,875] Trial 45 finished with value: 0.8733333333333333 and parameters: {'n_estimators': 126, 'max_depth': 18, 'min_samples_split': 16}. Best is trial 13 with value: 0.8966666666666666.\n",
      "[I 2025-01-14 13:42:55,072] Trial 46 finished with value: 0.88 and parameters: {'n_estimators': 175, 'max_depth': 14, 'min_samples_split': 10}. Best is trial 13 with value: 0.8966666666666666.\n",
      "[I 2025-01-14 13:42:55,235] Trial 47 finished with value: 0.89 and parameters: {'n_estimators': 146, 'max_depth': 10, 'min_samples_split': 8}. Best is trial 13 with value: 0.8966666666666666.\n",
      "[I 2025-01-14 13:42:55,400] Trial 48 finished with value: 0.8766666666666667 and parameters: {'n_estimators': 146, 'max_depth': 10, 'min_samples_split': 8}. Best is trial 13 with value: 0.8966666666666666.\n",
      "[I 2025-01-14 13:42:55,570] Trial 49 finished with value: 0.88 and parameters: {'n_estimators': 158, 'max_depth': 8, 'min_samples_split': 6}. Best is trial 13 with value: 0.8966666666666666.\n",
      "[I 2025-01-14 13:42:55,724] Trial 50 finished with value: 0.8766666666666667 and parameters: {'n_estimators': 126, 'max_depth': 11, 'min_samples_split': 12}. Best is trial 13 with value: 0.8966666666666666.\n",
      "[I 2025-01-14 13:42:55,895] Trial 51 finished with value: 0.88 and parameters: {'n_estimators': 142, 'max_depth': 13, 'min_samples_split': 7}. Best is trial 13 with value: 0.8966666666666666.\n",
      "[I 2025-01-14 13:42:56,114] Trial 52 finished with value: 0.89 and parameters: {'n_estimators': 194, 'max_depth': 10, 'min_samples_split': 8}. Best is trial 13 with value: 0.8966666666666666.\n",
      "[I 2025-01-14 13:42:56,398] Trial 53 finished with value: 0.88 and parameters: {'n_estimators': 193, 'max_depth': 10, 'min_samples_split': 8}. Best is trial 13 with value: 0.8966666666666666.\n",
      "[I 2025-01-14 13:42:56,567] Trial 54 finished with value: 0.86 and parameters: {'n_estimators': 168, 'max_depth': 6, 'min_samples_split': 11}. Best is trial 13 with value: 0.8966666666666666.\n",
      "[I 2025-01-14 13:42:56,770] Trial 55 finished with value: 0.8833333333333333 and parameters: {'n_estimators': 183, 'max_depth': 8, 'min_samples_split': 4}. Best is trial 13 with value: 0.8966666666666666.\n",
      "[I 2025-01-14 13:42:56,940] Trial 56 finished with value: 0.8733333333333333 and parameters: {'n_estimators': 152, 'max_depth': 9, 'min_samples_split': 9}. Best is trial 13 with value: 0.8966666666666666.\n",
      "[I 2025-01-14 13:42:57,045] Trial 57 finished with value: 0.8766666666666667 and parameters: {'n_estimators': 88, 'max_depth': 12, 'min_samples_split': 10}. Best is trial 13 with value: 0.8966666666666666.\n",
      "[I 2025-01-14 13:42:57,245] Trial 58 finished with value: 0.8633333333333333 and parameters: {'n_estimators': 169, 'max_depth': 7, 'min_samples_split': 6}. Best is trial 13 with value: 0.8966666666666666.\n",
      "[I 2025-01-14 13:42:57,313] Trial 59 finished with value: 0.8766666666666667 and parameters: {'n_estimators': 51, 'max_depth': 14, 'min_samples_split': 7}. Best is trial 13 with value: 0.8966666666666666.\n",
      "[I 2025-01-14 13:42:57,522] Trial 60 finished with value: 0.8766666666666667 and parameters: {'n_estimators': 180, 'max_depth': 16, 'min_samples_split': 4}. Best is trial 13 with value: 0.8966666666666666.\n",
      "[I 2025-01-14 13:42:57,785] Trial 61 finished with value: 0.8833333333333333 and parameters: {'n_estimators': 198, 'max_depth': 20, 'min_samples_split': 20}. Best is trial 13 with value: 0.8966666666666666.\n",
      "[I 2025-01-14 13:42:58,006] Trial 62 finished with value: 0.8733333333333333 and parameters: {'n_estimators': 185, 'max_depth': 10, 'min_samples_split': 9}. Best is trial 13 with value: 0.8966666666666666.\n",
      "[I 2025-01-14 13:42:58,237] Trial 63 finished with value: 0.8866666666666667 and parameters: {'n_estimators': 193, 'max_depth': 11, 'min_samples_split': 5}. Best is trial 13 with value: 0.8966666666666666.\n",
      "[I 2025-01-14 13:42:58,468] Trial 64 finished with value: 0.8766666666666667 and parameters: {'n_estimators': 193, 'max_depth': 12, 'min_samples_split': 5}. Best is trial 13 with value: 0.8966666666666666.\n",
      "[I 2025-01-14 13:42:58,649] Trial 65 finished with value: 0.8866666666666667 and parameters: {'n_estimators': 156, 'max_depth': 11, 'min_samples_split': 8}. Best is trial 13 with value: 0.8966666666666666.\n",
      "[I 2025-01-14 13:42:58,827] Trial 66 finished with value: 0.89 and parameters: {'n_estimators': 156, 'max_depth': 11, 'min_samples_split': 8}. Best is trial 13 with value: 0.8966666666666666.\n",
      "[I 2025-01-14 13:42:58,989] Trial 67 finished with value: 0.8766666666666667 and parameters: {'n_estimators': 144, 'max_depth': 9, 'min_samples_split': 7}. Best is trial 13 with value: 0.8966666666666666.\n",
      "[I 2025-01-14 13:42:59,151] Trial 68 finished with value: 0.8933333333333333 and parameters: {'n_estimators': 138, 'max_depth': 13, 'min_samples_split': 3}. Best is trial 13 with value: 0.8966666666666666.\n",
      "[I 2025-01-14 13:42:59,325] Trial 69 finished with value: 0.8833333333333333 and parameters: {'n_estimators': 148, 'max_depth': 13, 'min_samples_split': 6}. Best is trial 13 with value: 0.8966666666666666.\n",
      "[I 2025-01-14 13:42:59,484] Trial 70 finished with value: 0.8766666666666667 and parameters: {'n_estimators': 137, 'max_depth': 10, 'min_samples_split': 3}. Best is trial 13 with value: 0.8966666666666666.\n",
      "[I 2025-01-14 13:42:59,667] Trial 71 finished with value: 0.8833333333333333 and parameters: {'n_estimators': 159, 'max_depth': 11, 'min_samples_split': 5}. Best is trial 13 with value: 0.8966666666666666.\n",
      "[I 2025-01-14 13:42:59,835] Trial 72 finished with value: 0.8733333333333333 and parameters: {'n_estimators': 141, 'max_depth': 12, 'min_samples_split': 4}. Best is trial 13 with value: 0.8966666666666666.\n",
      "[I 2025-01-14 13:42:59,981] Trial 73 finished with value: 0.88 and parameters: {'n_estimators': 121, 'max_depth': 15, 'min_samples_split': 2}. Best is trial 13 with value: 0.8966666666666666.\n",
      "[I 2025-01-14 13:43:00,132] Trial 74 finished with value: 0.8766666666666667 and parameters: {'n_estimators': 129, 'max_depth': 13, 'min_samples_split': 7}. Best is trial 13 with value: 0.8966666666666666.\n",
      "[I 2025-01-14 13:43:00,285] Trial 75 finished with value: 0.8733333333333333 and parameters: {'n_estimators': 130, 'max_depth': 14, 'min_samples_split': 5}. Best is trial 13 with value: 0.8966666666666666.\n",
      "[I 2025-01-14 13:43:00,432] Trial 76 finished with value: 0.88 and parameters: {'n_estimators': 135, 'max_depth': 8, 'min_samples_split': 10}. Best is trial 13 with value: 0.8966666666666666.\n",
      "[I 2025-01-14 13:43:00,648] Trial 77 finished with value: 0.8733333333333333 and parameters: {'n_estimators': 178, 'max_depth': 10, 'min_samples_split': 8}. Best is trial 13 with value: 0.8966666666666666.\n",
      "[I 2025-01-14 13:43:00,825] Trial 78 finished with value: 0.9066666666666666 and parameters: {'n_estimators': 150, 'max_depth': 12, 'min_samples_split': 3}. Best is trial 78 with value: 0.9066666666666666.\n",
      "[I 2025-01-14 13:43:01,000] Trial 79 finished with value: 0.9033333333333333 and parameters: {'n_estimators': 149, 'max_depth': 12, 'min_samples_split': 3}. Best is trial 78 with value: 0.9066666666666666.\n",
      "[I 2025-01-14 13:43:01,179] Trial 80 finished with value: 0.8866666666666667 and parameters: {'n_estimators': 151, 'max_depth': 12, 'min_samples_split': 3}. Best is trial 78 with value: 0.9066666666666666.\n",
      "[I 2025-01-14 13:43:01,367] Trial 81 finished with value: 0.8833333333333333 and parameters: {'n_estimators': 161, 'max_depth': 14, 'min_samples_split': 2}. Best is trial 78 with value: 0.9066666666666666.\n",
      "[I 2025-01-14 13:43:01,536] Trial 82 finished with value: 0.8733333333333333 and parameters: {'n_estimators': 149, 'max_depth': 9, 'min_samples_split': 3}. Best is trial 78 with value: 0.9066666666666666.\n",
      "[I 2025-01-14 13:43:01,699] Trial 83 finished with value: 0.8733333333333333 and parameters: {'n_estimators': 137, 'max_depth': 12, 'min_samples_split': 4}. Best is trial 78 with value: 0.9066666666666666.\n",
      "[I 2025-01-14 13:43:01,878] Trial 84 finished with value: 0.8766666666666667 and parameters: {'n_estimators': 155, 'max_depth': 13, 'min_samples_split': 9}. Best is trial 78 with value: 0.9066666666666666.\n",
      "[I 2025-01-14 13:43:02,044] Trial 85 finished with value: 0.89 and parameters: {'n_estimators': 145, 'max_depth': 11, 'min_samples_split': 6}. Best is trial 78 with value: 0.9066666666666666.\n",
      "[I 2025-01-14 13:43:02,213] Trial 86 finished with value: 0.88 and parameters: {'n_estimators': 145, 'max_depth': 11, 'min_samples_split': 7}. Best is trial 78 with value: 0.9066666666666666.\n",
      "[I 2025-01-14 13:43:02,403] Trial 87 finished with value: 0.8866666666666667 and parameters: {'n_estimators': 167, 'max_depth': 9, 'min_samples_split': 2}. Best is trial 78 with value: 0.9066666666666666.\n",
      "[I 2025-01-14 13:43:02,524] Trial 88 finished with value: 0.8633333333333333 and parameters: {'n_estimators': 112, 'max_depth': 7, 'min_samples_split': 6}. Best is trial 78 with value: 0.9066666666666666.\n",
      "[I 2025-01-14 13:43:02,680] Trial 89 finished with value: 0.8766666666666667 and parameters: {'n_estimators': 132, 'max_depth': 15, 'min_samples_split': 8}. Best is trial 78 with value: 0.9066666666666666.\n",
      "[I 2025-01-14 13:43:02,855] Trial 90 finished with value: 0.89 and parameters: {'n_estimators': 153, 'max_depth': 10, 'min_samples_split': 3}. Best is trial 78 with value: 0.9066666666666666.\n",
      "[I 2025-01-14 13:43:03,032] Trial 91 finished with value: 0.8733333333333333 and parameters: {'n_estimators': 153, 'max_depth': 10, 'min_samples_split': 3}. Best is trial 78 with value: 0.9066666666666666.\n",
      "[I 2025-01-14 13:43:03,196] Trial 92 finished with value: 0.8933333333333333 and parameters: {'n_estimators': 140, 'max_depth': 11, 'min_samples_split': 3}. Best is trial 78 with value: 0.9066666666666666.\n",
      "[I 2025-01-14 13:43:03,360] Trial 93 finished with value: 0.8833333333333333 and parameters: {'n_estimators': 139, 'max_depth': 11, 'min_samples_split': 4}. Best is trial 78 with value: 0.9066666666666666.\n",
      "[I 2025-01-14 13:43:03,533] Trial 94 finished with value: 0.9 and parameters: {'n_estimators': 146, 'max_depth': 13, 'min_samples_split': 3}. Best is trial 78 with value: 0.9066666666666666.\n",
      "[I 2025-01-14 13:43:03,711] Trial 95 finished with value: 0.89 and parameters: {'n_estimators': 148, 'max_depth': 13, 'min_samples_split': 2}. Best is trial 78 with value: 0.9066666666666666.\n",
      "[I 2025-01-14 13:43:03,881] Trial 96 finished with value: 0.8733333333333333 and parameters: {'n_estimators': 143, 'max_depth': 14, 'min_samples_split': 4}. Best is trial 78 with value: 0.9066666666666666.\n",
      "[I 2025-01-14 13:43:04,072] Trial 97 finished with value: 0.89 and parameters: {'n_estimators': 163, 'max_depth': 12, 'min_samples_split': 3}. Best is trial 78 with value: 0.9066666666666666.\n",
      "[I 2025-01-14 13:43:04,258] Trial 98 finished with value: 0.8766666666666667 and parameters: {'n_estimators': 158, 'max_depth': 16, 'min_samples_split': 2}. Best is trial 78 with value: 0.9066666666666666.\n",
      "[I 2025-01-14 13:43:04,423] Trial 99 finished with value: 0.8866666666666667 and parameters: {'n_estimators': 139, 'max_depth': 11, 'min_samples_split': 3}. Best is trial 78 with value: 0.9066666666666666.\n"
     ]
    }
   ],
   "source": [
    "study.optimize(objective, n_trials=100)"
   ]
  },
  {
   "cell_type": "code",
   "execution_count": 9,
   "metadata": {},
   "outputs": [
    {
     "data": {
      "text/plain": [
       "{'n_estimators': 150, 'max_depth': 12, 'min_samples_split': 3}"
      ]
     },
     "execution_count": 9,
     "metadata": {},
     "output_type": "execute_result"
    }
   ],
   "source": [
    "study.best_params"
   ]
  },
  {
   "cell_type": "code",
   "execution_count": 10,
   "metadata": {},
   "outputs": [
    {
     "data": {
      "text/plain": [
       "0.9066666666666666"
      ]
     },
     "execution_count": 10,
     "metadata": {},
     "output_type": "execute_result"
    }
   ],
   "source": [
    "study.best_value"
   ]
  },
  {
   "cell_type": "code",
   "execution_count": 15,
   "metadata": {},
   "outputs": [
    {
     "data": {
      "application/vnd.plotly.v1+json": {
       "config": {
        "plotlyServerURL": "https://plot.ly"
       },
       "data": [
        {
         "cliponaxis": false,
         "hovertemplate": [
          "n_estimators (IntDistribution): 0.14768776307479478<extra></extra>",
          "min_samples_split (IntDistribution): 0.25145781278661244<extra></extra>",
          "max_depth (IntDistribution): 0.6008544241385928<extra></extra>"
         ],
         "name": "Objective Value",
         "orientation": "h",
         "text": [
          "0.15",
          "0.25",
          "0.60"
         ],
         "textposition": "outside",
         "type": "bar",
         "x": [
          0.14768776307479478,
          0.25145781278661244,
          0.6008544241385928
         ],
         "y": [
          "n_estimators",
          "min_samples_split",
          "max_depth"
         ]
        }
       ],
       "layout": {
        "template": {
         "data": {
          "bar": [
           {
            "error_x": {
             "color": "#2a3f5f"
            },
            "error_y": {
             "color": "#2a3f5f"
            },
            "marker": {
             "line": {
              "color": "#E5ECF6",
              "width": 0.5
             },
             "pattern": {
              "fillmode": "overlay",
              "size": 10,
              "solidity": 0.2
             }
            },
            "type": "bar"
           }
          ],
          "barpolar": [
           {
            "marker": {
             "line": {
              "color": "#E5ECF6",
              "width": 0.5
             },
             "pattern": {
              "fillmode": "overlay",
              "size": 10,
              "solidity": 0.2
             }
            },
            "type": "barpolar"
           }
          ],
          "carpet": [
           {
            "aaxis": {
             "endlinecolor": "#2a3f5f",
             "gridcolor": "white",
             "linecolor": "white",
             "minorgridcolor": "white",
             "startlinecolor": "#2a3f5f"
            },
            "baxis": {
             "endlinecolor": "#2a3f5f",
             "gridcolor": "white",
             "linecolor": "white",
             "minorgridcolor": "white",
             "startlinecolor": "#2a3f5f"
            },
            "type": "carpet"
           }
          ],
          "choropleth": [
           {
            "colorbar": {
             "outlinewidth": 0,
             "ticks": ""
            },
            "type": "choropleth"
           }
          ],
          "contour": [
           {
            "colorbar": {
             "outlinewidth": 0,
             "ticks": ""
            },
            "colorscale": [
             [
              0,
              "#0d0887"
             ],
             [
              0.1111111111111111,
              "#46039f"
             ],
             [
              0.2222222222222222,
              "#7201a8"
             ],
             [
              0.3333333333333333,
              "#9c179e"
             ],
             [
              0.4444444444444444,
              "#bd3786"
             ],
             [
              0.5555555555555556,
              "#d8576b"
             ],
             [
              0.6666666666666666,
              "#ed7953"
             ],
             [
              0.7777777777777778,
              "#fb9f3a"
             ],
             [
              0.8888888888888888,
              "#fdca26"
             ],
             [
              1,
              "#f0f921"
             ]
            ],
            "type": "contour"
           }
          ],
          "contourcarpet": [
           {
            "colorbar": {
             "outlinewidth": 0,
             "ticks": ""
            },
            "type": "contourcarpet"
           }
          ],
          "heatmap": [
           {
            "colorbar": {
             "outlinewidth": 0,
             "ticks": ""
            },
            "colorscale": [
             [
              0,
              "#0d0887"
             ],
             [
              0.1111111111111111,
              "#46039f"
             ],
             [
              0.2222222222222222,
              "#7201a8"
             ],
             [
              0.3333333333333333,
              "#9c179e"
             ],
             [
              0.4444444444444444,
              "#bd3786"
             ],
             [
              0.5555555555555556,
              "#d8576b"
             ],
             [
              0.6666666666666666,
              "#ed7953"
             ],
             [
              0.7777777777777778,
              "#fb9f3a"
             ],
             [
              0.8888888888888888,
              "#fdca26"
             ],
             [
              1,
              "#f0f921"
             ]
            ],
            "type": "heatmap"
           }
          ],
          "heatmapgl": [
           {
            "colorbar": {
             "outlinewidth": 0,
             "ticks": ""
            },
            "colorscale": [
             [
              0,
              "#0d0887"
             ],
             [
              0.1111111111111111,
              "#46039f"
             ],
             [
              0.2222222222222222,
              "#7201a8"
             ],
             [
              0.3333333333333333,
              "#9c179e"
             ],
             [
              0.4444444444444444,
              "#bd3786"
             ],
             [
              0.5555555555555556,
              "#d8576b"
             ],
             [
              0.6666666666666666,
              "#ed7953"
             ],
             [
              0.7777777777777778,
              "#fb9f3a"
             ],
             [
              0.8888888888888888,
              "#fdca26"
             ],
             [
              1,
              "#f0f921"
             ]
            ],
            "type": "heatmapgl"
           }
          ],
          "histogram": [
           {
            "marker": {
             "pattern": {
              "fillmode": "overlay",
              "size": 10,
              "solidity": 0.2
             }
            },
            "type": "histogram"
           }
          ],
          "histogram2d": [
           {
            "colorbar": {
             "outlinewidth": 0,
             "ticks": ""
            },
            "colorscale": [
             [
              0,
              "#0d0887"
             ],
             [
              0.1111111111111111,
              "#46039f"
             ],
             [
              0.2222222222222222,
              "#7201a8"
             ],
             [
              0.3333333333333333,
              "#9c179e"
             ],
             [
              0.4444444444444444,
              "#bd3786"
             ],
             [
              0.5555555555555556,
              "#d8576b"
             ],
             [
              0.6666666666666666,
              "#ed7953"
             ],
             [
              0.7777777777777778,
              "#fb9f3a"
             ],
             [
              0.8888888888888888,
              "#fdca26"
             ],
             [
              1,
              "#f0f921"
             ]
            ],
            "type": "histogram2d"
           }
          ],
          "histogram2dcontour": [
           {
            "colorbar": {
             "outlinewidth": 0,
             "ticks": ""
            },
            "colorscale": [
             [
              0,
              "#0d0887"
             ],
             [
              0.1111111111111111,
              "#46039f"
             ],
             [
              0.2222222222222222,
              "#7201a8"
             ],
             [
              0.3333333333333333,
              "#9c179e"
             ],
             [
              0.4444444444444444,
              "#bd3786"
             ],
             [
              0.5555555555555556,
              "#d8576b"
             ],
             [
              0.6666666666666666,
              "#ed7953"
             ],
             [
              0.7777777777777778,
              "#fb9f3a"
             ],
             [
              0.8888888888888888,
              "#fdca26"
             ],
             [
              1,
              "#f0f921"
             ]
            ],
            "type": "histogram2dcontour"
           }
          ],
          "mesh3d": [
           {
            "colorbar": {
             "outlinewidth": 0,
             "ticks": ""
            },
            "type": "mesh3d"
           }
          ],
          "parcoords": [
           {
            "line": {
             "colorbar": {
              "outlinewidth": 0,
              "ticks": ""
             }
            },
            "type": "parcoords"
           }
          ],
          "pie": [
           {
            "automargin": true,
            "type": "pie"
           }
          ],
          "scatter": [
           {
            "fillpattern": {
             "fillmode": "overlay",
             "size": 10,
             "solidity": 0.2
            },
            "type": "scatter"
           }
          ],
          "scatter3d": [
           {
            "line": {
             "colorbar": {
              "outlinewidth": 0,
              "ticks": ""
             }
            },
            "marker": {
             "colorbar": {
              "outlinewidth": 0,
              "ticks": ""
             }
            },
            "type": "scatter3d"
           }
          ],
          "scattercarpet": [
           {
            "marker": {
             "colorbar": {
              "outlinewidth": 0,
              "ticks": ""
             }
            },
            "type": "scattercarpet"
           }
          ],
          "scattergeo": [
           {
            "marker": {
             "colorbar": {
              "outlinewidth": 0,
              "ticks": ""
             }
            },
            "type": "scattergeo"
           }
          ],
          "scattergl": [
           {
            "marker": {
             "colorbar": {
              "outlinewidth": 0,
              "ticks": ""
             }
            },
            "type": "scattergl"
           }
          ],
          "scattermapbox": [
           {
            "marker": {
             "colorbar": {
              "outlinewidth": 0,
              "ticks": ""
             }
            },
            "type": "scattermapbox"
           }
          ],
          "scatterpolar": [
           {
            "marker": {
             "colorbar": {
              "outlinewidth": 0,
              "ticks": ""
             }
            },
            "type": "scatterpolar"
           }
          ],
          "scatterpolargl": [
           {
            "marker": {
             "colorbar": {
              "outlinewidth": 0,
              "ticks": ""
             }
            },
            "type": "scatterpolargl"
           }
          ],
          "scatterternary": [
           {
            "marker": {
             "colorbar": {
              "outlinewidth": 0,
              "ticks": ""
             }
            },
            "type": "scatterternary"
           }
          ],
          "surface": [
           {
            "colorbar": {
             "outlinewidth": 0,
             "ticks": ""
            },
            "colorscale": [
             [
              0,
              "#0d0887"
             ],
             [
              0.1111111111111111,
              "#46039f"
             ],
             [
              0.2222222222222222,
              "#7201a8"
             ],
             [
              0.3333333333333333,
              "#9c179e"
             ],
             [
              0.4444444444444444,
              "#bd3786"
             ],
             [
              0.5555555555555556,
              "#d8576b"
             ],
             [
              0.6666666666666666,
              "#ed7953"
             ],
             [
              0.7777777777777778,
              "#fb9f3a"
             ],
             [
              0.8888888888888888,
              "#fdca26"
             ],
             [
              1,
              "#f0f921"
             ]
            ],
            "type": "surface"
           }
          ],
          "table": [
           {
            "cells": {
             "fill": {
              "color": "#EBF0F8"
             },
             "line": {
              "color": "white"
             }
            },
            "header": {
             "fill": {
              "color": "#C8D4E3"
             },
             "line": {
              "color": "white"
             }
            },
            "type": "table"
           }
          ]
         },
         "layout": {
          "annotationdefaults": {
           "arrowcolor": "#2a3f5f",
           "arrowhead": 0,
           "arrowwidth": 1
          },
          "autotypenumbers": "strict",
          "coloraxis": {
           "colorbar": {
            "outlinewidth": 0,
            "ticks": ""
           }
          },
          "colorscale": {
           "diverging": [
            [
             0,
             "#8e0152"
            ],
            [
             0.1,
             "#c51b7d"
            ],
            [
             0.2,
             "#de77ae"
            ],
            [
             0.3,
             "#f1b6da"
            ],
            [
             0.4,
             "#fde0ef"
            ],
            [
             0.5,
             "#f7f7f7"
            ],
            [
             0.6,
             "#e6f5d0"
            ],
            [
             0.7,
             "#b8e186"
            ],
            [
             0.8,
             "#7fbc41"
            ],
            [
             0.9,
             "#4d9221"
            ],
            [
             1,
             "#276419"
            ]
           ],
           "sequential": [
            [
             0,
             "#0d0887"
            ],
            [
             0.1111111111111111,
             "#46039f"
            ],
            [
             0.2222222222222222,
             "#7201a8"
            ],
            [
             0.3333333333333333,
             "#9c179e"
            ],
            [
             0.4444444444444444,
             "#bd3786"
            ],
            [
             0.5555555555555556,
             "#d8576b"
            ],
            [
             0.6666666666666666,
             "#ed7953"
            ],
            [
             0.7777777777777778,
             "#fb9f3a"
            ],
            [
             0.8888888888888888,
             "#fdca26"
            ],
            [
             1,
             "#f0f921"
            ]
           ],
           "sequentialminus": [
            [
             0,
             "#0d0887"
            ],
            [
             0.1111111111111111,
             "#46039f"
            ],
            [
             0.2222222222222222,
             "#7201a8"
            ],
            [
             0.3333333333333333,
             "#9c179e"
            ],
            [
             0.4444444444444444,
             "#bd3786"
            ],
            [
             0.5555555555555556,
             "#d8576b"
            ],
            [
             0.6666666666666666,
             "#ed7953"
            ],
            [
             0.7777777777777778,
             "#fb9f3a"
            ],
            [
             0.8888888888888888,
             "#fdca26"
            ],
            [
             1,
             "#f0f921"
            ]
           ]
          },
          "colorway": [
           "#636efa",
           "#EF553B",
           "#00cc96",
           "#ab63fa",
           "#FFA15A",
           "#19d3f3",
           "#FF6692",
           "#B6E880",
           "#FF97FF",
           "#FECB52"
          ],
          "font": {
           "color": "#2a3f5f"
          },
          "geo": {
           "bgcolor": "white",
           "lakecolor": "white",
           "landcolor": "#E5ECF6",
           "showlakes": true,
           "showland": true,
           "subunitcolor": "white"
          },
          "hoverlabel": {
           "align": "left"
          },
          "hovermode": "closest",
          "mapbox": {
           "style": "light"
          },
          "paper_bgcolor": "white",
          "plot_bgcolor": "#E5ECF6",
          "polar": {
           "angularaxis": {
            "gridcolor": "white",
            "linecolor": "white",
            "ticks": ""
           },
           "bgcolor": "#E5ECF6",
           "radialaxis": {
            "gridcolor": "white",
            "linecolor": "white",
            "ticks": ""
           }
          },
          "scene": {
           "xaxis": {
            "backgroundcolor": "#E5ECF6",
            "gridcolor": "white",
            "gridwidth": 2,
            "linecolor": "white",
            "showbackground": true,
            "ticks": "",
            "zerolinecolor": "white"
           },
           "yaxis": {
            "backgroundcolor": "#E5ECF6",
            "gridcolor": "white",
            "gridwidth": 2,
            "linecolor": "white",
            "showbackground": true,
            "ticks": "",
            "zerolinecolor": "white"
           },
           "zaxis": {
            "backgroundcolor": "#E5ECF6",
            "gridcolor": "white",
            "gridwidth": 2,
            "linecolor": "white",
            "showbackground": true,
            "ticks": "",
            "zerolinecolor": "white"
           }
          },
          "shapedefaults": {
           "line": {
            "color": "#2a3f5f"
           }
          },
          "ternary": {
           "aaxis": {
            "gridcolor": "white",
            "linecolor": "white",
            "ticks": ""
           },
           "baxis": {
            "gridcolor": "white",
            "linecolor": "white",
            "ticks": ""
           },
           "bgcolor": "#E5ECF6",
           "caxis": {
            "gridcolor": "white",
            "linecolor": "white",
            "ticks": ""
           }
          },
          "title": {
           "x": 0.05
          },
          "xaxis": {
           "automargin": true,
           "gridcolor": "white",
           "linecolor": "white",
           "ticks": "",
           "title": {
            "standoff": 15
           },
           "zerolinecolor": "white",
           "zerolinewidth": 2
          },
          "yaxis": {
           "automargin": true,
           "gridcolor": "white",
           "linecolor": "white",
           "ticks": "",
           "title": {
            "standoff": 15
           },
           "zerolinecolor": "white",
           "zerolinewidth": 2
          }
         }
        },
        "title": {
         "text": "Hyperparameter Importances"
        },
        "xaxis": {
         "title": {
          "text": "Hyperparameter Importance"
         }
        },
        "yaxis": {
         "title": {
          "text": "Hyperparameter"
         }
        }
       }
      }
     },
     "metadata": {},
     "output_type": "display_data"
    }
   ],
   "source": [
    "optuna.visualization.plot_param_importances(study)"
   ]
  },
  {
   "cell_type": "code",
   "execution_count": 16,
   "metadata": {},
   "outputs": [
    {
     "data": {
      "application/vnd.plotly.v1+json": {
       "config": {
        "plotlyServerURL": "https://plot.ly"
       },
       "data": [
        {
         "marker": {
          "color": [
           0,
           1,
           2,
           3,
           4,
           5,
           6,
           7,
           8,
           9,
           10,
           11,
           12,
           13,
           14,
           15,
           16,
           17,
           18,
           19,
           20,
           21,
           22,
           23,
           24,
           25,
           26,
           27,
           28,
           29,
           30,
           31,
           32,
           33,
           34,
           35,
           36,
           37,
           38,
           39,
           40,
           41,
           42,
           43,
           44,
           45,
           46,
           47,
           48,
           49,
           50,
           51,
           52,
           53,
           54,
           55,
           56,
           57,
           58,
           59,
           60,
           61,
           62,
           63,
           64,
           65,
           66,
           67,
           68,
           69,
           70,
           71,
           72,
           73,
           74,
           75,
           76,
           77,
           78,
           79,
           80,
           81,
           82,
           83,
           84,
           85,
           86,
           87,
           88,
           89,
           90,
           91,
           92,
           93,
           94,
           95,
           96,
           97,
           98,
           99
          ],
          "colorbar": {
           "title": {
            "text": "Trial"
           },
           "x": 1,
           "xpad": 40
          },
          "colorscale": [
           [
            0,
            "rgb(247,251,255)"
           ],
           [
            0.125,
            "rgb(222,235,247)"
           ],
           [
            0.25,
            "rgb(198,219,239)"
           ],
           [
            0.375,
            "rgb(158,202,225)"
           ],
           [
            0.5,
            "rgb(107,174,214)"
           ],
           [
            0.625,
            "rgb(66,146,198)"
           ],
           [
            0.75,
            "rgb(33,113,181)"
           ],
           [
            0.875,
            "rgb(8,81,156)"
           ],
           [
            1,
            "rgb(8,48,107)"
           ]
          ],
          "line": {
           "color": "Grey",
           "width": 0.5
          },
          "showscale": true
         },
         "mode": "markers",
         "name": "Feasible Trial",
         "showlegend": false,
         "type": "scatter",
         "x": [
          24,
          25,
          29,
          29,
          9,
          15,
          19,
          9,
          30,
          14,
          20,
          21,
          19,
          15,
          14,
          5,
          10,
          10,
          6,
          12,
          17,
          11,
          13,
          7,
          12,
          16,
          8,
          12,
          17,
          23,
          11,
          19,
          22,
          15,
          18,
          24,
          27,
          13,
          9,
          15,
          16,
          20,
          21,
          19,
          25,
          18,
          14,
          10,
          10,
          8,
          11,
          13,
          10,
          10,
          6,
          8,
          9,
          12,
          7,
          14,
          16,
          20,
          10,
          11,
          12,
          11,
          11,
          9,
          13,
          13,
          10,
          11,
          12,
          15,
          13,
          14,
          8,
          10,
          12,
          12,
          12,
          14,
          9,
          12,
          13,
          11,
          11,
          9,
          7,
          15,
          10,
          10,
          11,
          11,
          13,
          13,
          14,
          12,
          16,
          11
         ],
         "xaxis": "x",
         "y": [
          0.88,
          0.8766666666666667,
          0.8733333333333333,
          0.8766666666666667,
          0.86,
          0.8766666666666667,
          0.8833333333333333,
          0.87,
          0.8733333333333333,
          0.88,
          0.8833333333333333,
          0.87,
          0.8766666666666667,
          0.8966666666666666,
          0.87,
          0.87,
          0.8866666666666667,
          0.8733333333333333,
          0.86,
          0.8866666666666667,
          0.8733333333333333,
          0.8766666666666667,
          0.8833333333333333,
          0.8766666666666667,
          0.8766666666666667,
          0.8833333333333333,
          0.8833333333333333,
          0.8833333333333333,
          0.8766666666666667,
          0.87,
          0.8833333333333333,
          0.8766666666666667,
          0.8833333333333333,
          0.8766666666666667,
          0.8733333333333333,
          0.8733333333333333,
          0.8833333333333333,
          0.88,
          0.8666666666666667,
          0.8733333333333333,
          0.8766666666666667,
          0.8666666666666667,
          0.8666666666666667,
          0.8766666666666667,
          0.88,
          0.8733333333333333,
          0.88,
          0.89,
          0.8766666666666667,
          0.88,
          0.8766666666666667,
          0.88,
          0.89,
          0.88,
          0.86,
          0.8833333333333333,
          0.8733333333333333,
          0.8766666666666667,
          0.8633333333333333,
          0.8766666666666667,
          0.8766666666666667,
          0.8833333333333333,
          0.8733333333333333,
          0.8866666666666667,
          0.8766666666666667,
          0.8866666666666667,
          0.89,
          0.8766666666666667,
          0.8933333333333333,
          0.8833333333333333,
          0.8766666666666667,
          0.8833333333333333,
          0.8733333333333333,
          0.88,
          0.8766666666666667,
          0.8733333333333333,
          0.88,
          0.8733333333333333,
          0.9066666666666666,
          0.9033333333333333,
          0.8866666666666667,
          0.8833333333333333,
          0.8733333333333333,
          0.8733333333333333,
          0.8766666666666667,
          0.89,
          0.88,
          0.8866666666666667,
          0.8633333333333333,
          0.8766666666666667,
          0.89,
          0.8733333333333333,
          0.8933333333333333,
          0.8833333333333333,
          0.9,
          0.89,
          0.8733333333333333,
          0.89,
          0.8766666666666667,
          0.8866666666666667
         ],
         "yaxis": "y"
        },
        {
         "marker": {
          "color": [
           0,
           1,
           2,
           3,
           4,
           5,
           6,
           7,
           8,
           9,
           10,
           11,
           12,
           13,
           14,
           15,
           16,
           17,
           18,
           19,
           20,
           21,
           22,
           23,
           24,
           25,
           26,
           27,
           28,
           29,
           30,
           31,
           32,
           33,
           34,
           35,
           36,
           37,
           38,
           39,
           40,
           41,
           42,
           43,
           44,
           45,
           46,
           47,
           48,
           49,
           50,
           51,
           52,
           53,
           54,
           55,
           56,
           57,
           58,
           59,
           60,
           61,
           62,
           63,
           64,
           65,
           66,
           67,
           68,
           69,
           70,
           71,
           72,
           73,
           74,
           75,
           76,
           77,
           78,
           79,
           80,
           81,
           82,
           83,
           84,
           85,
           86,
           87,
           88,
           89,
           90,
           91,
           92,
           93,
           94,
           95,
           96,
           97,
           98,
           99
          ],
          "colorbar": {
           "title": {
            "text": "Trial"
           },
           "x": 1,
           "xpad": 40
          },
          "colorscale": [
           [
            0,
            "rgb(247,251,255)"
           ],
           [
            0.125,
            "rgb(222,235,247)"
           ],
           [
            0.25,
            "rgb(198,219,239)"
           ],
           [
            0.375,
            "rgb(158,202,225)"
           ],
           [
            0.5,
            "rgb(107,174,214)"
           ],
           [
            0.625,
            "rgb(66,146,198)"
           ],
           [
            0.75,
            "rgb(33,113,181)"
           ],
           [
            0.875,
            "rgb(8,81,156)"
           ],
           [
            1,
            "rgb(8,48,107)"
           ]
          ],
          "line": {
           "color": "Grey",
           "width": 0.5
          },
          "showscale": false
         },
         "mode": "markers",
         "name": "Feasible Trial",
         "showlegend": false,
         "type": "scatter",
         "x": [
          3,
          12,
          15,
          3,
          15,
          16,
          14,
          7,
          15,
          15,
          19,
          20,
          20,
          10,
          10,
          10,
          7,
          7,
          7,
          5,
          9,
          5,
          5,
          5,
          8,
          12,
          2,
          6,
          9,
          4,
          11,
          13,
          13,
          17,
          13,
          3,
          8,
          11,
          6,
          17,
          2,
          19,
          18,
          14,
          9,
          16,
          10,
          8,
          8,
          6,
          12,
          7,
          8,
          8,
          11,
          4,
          9,
          10,
          6,
          7,
          4,
          20,
          9,
          5,
          5,
          8,
          8,
          7,
          3,
          6,
          3,
          5,
          4,
          2,
          7,
          5,
          10,
          8,
          3,
          3,
          3,
          2,
          3,
          4,
          9,
          6,
          7,
          2,
          6,
          8,
          3,
          3,
          3,
          4,
          3,
          2,
          4,
          3,
          2,
          3
         ],
         "xaxis": "x2",
         "y": [
          0.88,
          0.8766666666666667,
          0.8733333333333333,
          0.8766666666666667,
          0.86,
          0.8766666666666667,
          0.8833333333333333,
          0.87,
          0.8733333333333333,
          0.88,
          0.8833333333333333,
          0.87,
          0.8766666666666667,
          0.8966666666666666,
          0.87,
          0.87,
          0.8866666666666667,
          0.8733333333333333,
          0.86,
          0.8866666666666667,
          0.8733333333333333,
          0.8766666666666667,
          0.8833333333333333,
          0.8766666666666667,
          0.8766666666666667,
          0.8833333333333333,
          0.8833333333333333,
          0.8833333333333333,
          0.8766666666666667,
          0.87,
          0.8833333333333333,
          0.8766666666666667,
          0.8833333333333333,
          0.8766666666666667,
          0.8733333333333333,
          0.8733333333333333,
          0.8833333333333333,
          0.88,
          0.8666666666666667,
          0.8733333333333333,
          0.8766666666666667,
          0.8666666666666667,
          0.8666666666666667,
          0.8766666666666667,
          0.88,
          0.8733333333333333,
          0.88,
          0.89,
          0.8766666666666667,
          0.88,
          0.8766666666666667,
          0.88,
          0.89,
          0.88,
          0.86,
          0.8833333333333333,
          0.8733333333333333,
          0.8766666666666667,
          0.8633333333333333,
          0.8766666666666667,
          0.8766666666666667,
          0.8833333333333333,
          0.8733333333333333,
          0.8866666666666667,
          0.8766666666666667,
          0.8866666666666667,
          0.89,
          0.8766666666666667,
          0.8933333333333333,
          0.8833333333333333,
          0.8766666666666667,
          0.8833333333333333,
          0.8733333333333333,
          0.88,
          0.8766666666666667,
          0.8733333333333333,
          0.88,
          0.8733333333333333,
          0.9066666666666666,
          0.9033333333333333,
          0.8866666666666667,
          0.8833333333333333,
          0.8733333333333333,
          0.8733333333333333,
          0.8766666666666667,
          0.89,
          0.88,
          0.8866666666666667,
          0.8633333333333333,
          0.8766666666666667,
          0.89,
          0.8733333333333333,
          0.8933333333333333,
          0.8833333333333333,
          0.9,
          0.89,
          0.8733333333333333,
          0.89,
          0.8766666666666667,
          0.8866666666666667
         ],
         "yaxis": "y2"
        },
        {
         "marker": {
          "color": [
           0,
           1,
           2,
           3,
           4,
           5,
           6,
           7,
           8,
           9,
           10,
           11,
           12,
           13,
           14,
           15,
           16,
           17,
           18,
           19,
           20,
           21,
           22,
           23,
           24,
           25,
           26,
           27,
           28,
           29,
           30,
           31,
           32,
           33,
           34,
           35,
           36,
           37,
           38,
           39,
           40,
           41,
           42,
           43,
           44,
           45,
           46,
           47,
           48,
           49,
           50,
           51,
           52,
           53,
           54,
           55,
           56,
           57,
           58,
           59,
           60,
           61,
           62,
           63,
           64,
           65,
           66,
           67,
           68,
           69,
           70,
           71,
           72,
           73,
           74,
           75,
           76,
           77,
           78,
           79,
           80,
           81,
           82,
           83,
           84,
           85,
           86,
           87,
           88,
           89,
           90,
           91,
           92,
           93,
           94,
           95,
           96,
           97,
           98,
           99
          ],
          "colorbar": {
           "title": {
            "text": "Trial"
           },
           "x": 1,
           "xpad": 40
          },
          "colorscale": [
           [
            0,
            "rgb(247,251,255)"
           ],
           [
            0.125,
            "rgb(222,235,247)"
           ],
           [
            0.25,
            "rgb(198,219,239)"
           ],
           [
            0.375,
            "rgb(158,202,225)"
           ],
           [
            0.5,
            "rgb(107,174,214)"
           ],
           [
            0.625,
            "rgb(66,146,198)"
           ],
           [
            0.75,
            "rgb(33,113,181)"
           ],
           [
            0.875,
            "rgb(8,81,156)"
           ],
           [
            1,
            "rgb(8,48,107)"
           ]
          ],
          "line": {
           "color": "Grey",
           "width": 0.5
          },
          "showscale": false
         },
         "mode": "markers",
         "name": "Feasible Trial",
         "showlegend": false,
         "type": "scatter",
         "x": [
          81,
          125,
          65,
          108,
          179,
          146,
          115,
          131,
          85,
          117,
          199,
          199,
          162,
          199,
          154,
          100,
          51,
          59,
          173,
          141,
          88,
          140,
          51,
          182,
          165,
          187,
          136,
          151,
          71,
          101,
          94,
          74,
          118,
          113,
          124,
          79,
          163,
          189,
          106,
          134,
          61,
          198,
          174,
          191,
          200,
          126,
          175,
          146,
          146,
          158,
          126,
          142,
          194,
          193,
          168,
          183,
          152,
          88,
          169,
          51,
          180,
          198,
          185,
          193,
          193,
          156,
          156,
          144,
          138,
          148,
          137,
          159,
          141,
          121,
          129,
          130,
          135,
          178,
          150,
          149,
          151,
          161,
          149,
          137,
          155,
          145,
          145,
          167,
          112,
          132,
          153,
          153,
          140,
          139,
          146,
          148,
          143,
          163,
          158,
          139
         ],
         "xaxis": "x3",
         "y": [
          0.88,
          0.8766666666666667,
          0.8733333333333333,
          0.8766666666666667,
          0.86,
          0.8766666666666667,
          0.8833333333333333,
          0.87,
          0.8733333333333333,
          0.88,
          0.8833333333333333,
          0.87,
          0.8766666666666667,
          0.8966666666666666,
          0.87,
          0.87,
          0.8866666666666667,
          0.8733333333333333,
          0.86,
          0.8866666666666667,
          0.8733333333333333,
          0.8766666666666667,
          0.8833333333333333,
          0.8766666666666667,
          0.8766666666666667,
          0.8833333333333333,
          0.8833333333333333,
          0.8833333333333333,
          0.8766666666666667,
          0.87,
          0.8833333333333333,
          0.8766666666666667,
          0.8833333333333333,
          0.8766666666666667,
          0.8733333333333333,
          0.8733333333333333,
          0.8833333333333333,
          0.88,
          0.8666666666666667,
          0.8733333333333333,
          0.8766666666666667,
          0.8666666666666667,
          0.8666666666666667,
          0.8766666666666667,
          0.88,
          0.8733333333333333,
          0.88,
          0.89,
          0.8766666666666667,
          0.88,
          0.8766666666666667,
          0.88,
          0.89,
          0.88,
          0.86,
          0.8833333333333333,
          0.8733333333333333,
          0.8766666666666667,
          0.8633333333333333,
          0.8766666666666667,
          0.8766666666666667,
          0.8833333333333333,
          0.8733333333333333,
          0.8866666666666667,
          0.8766666666666667,
          0.8866666666666667,
          0.89,
          0.8766666666666667,
          0.8933333333333333,
          0.8833333333333333,
          0.8766666666666667,
          0.8833333333333333,
          0.8733333333333333,
          0.88,
          0.8766666666666667,
          0.8733333333333333,
          0.88,
          0.8733333333333333,
          0.9066666666666666,
          0.9033333333333333,
          0.8866666666666667,
          0.8833333333333333,
          0.8733333333333333,
          0.8733333333333333,
          0.8766666666666667,
          0.89,
          0.88,
          0.8866666666666667,
          0.8633333333333333,
          0.8766666666666667,
          0.89,
          0.8733333333333333,
          0.8933333333333333,
          0.8833333333333333,
          0.9,
          0.89,
          0.8733333333333333,
          0.89,
          0.8766666666666667,
          0.8866666666666667
         ],
         "yaxis": "y3"
        }
       ],
       "layout": {
        "template": {
         "data": {
          "bar": [
           {
            "error_x": {
             "color": "#2a3f5f"
            },
            "error_y": {
             "color": "#2a3f5f"
            },
            "marker": {
             "line": {
              "color": "#E5ECF6",
              "width": 0.5
             },
             "pattern": {
              "fillmode": "overlay",
              "size": 10,
              "solidity": 0.2
             }
            },
            "type": "bar"
           }
          ],
          "barpolar": [
           {
            "marker": {
             "line": {
              "color": "#E5ECF6",
              "width": 0.5
             },
             "pattern": {
              "fillmode": "overlay",
              "size": 10,
              "solidity": 0.2
             }
            },
            "type": "barpolar"
           }
          ],
          "carpet": [
           {
            "aaxis": {
             "endlinecolor": "#2a3f5f",
             "gridcolor": "white",
             "linecolor": "white",
             "minorgridcolor": "white",
             "startlinecolor": "#2a3f5f"
            },
            "baxis": {
             "endlinecolor": "#2a3f5f",
             "gridcolor": "white",
             "linecolor": "white",
             "minorgridcolor": "white",
             "startlinecolor": "#2a3f5f"
            },
            "type": "carpet"
           }
          ],
          "choropleth": [
           {
            "colorbar": {
             "outlinewidth": 0,
             "ticks": ""
            },
            "type": "choropleth"
           }
          ],
          "contour": [
           {
            "colorbar": {
             "outlinewidth": 0,
             "ticks": ""
            },
            "colorscale": [
             [
              0,
              "#0d0887"
             ],
             [
              0.1111111111111111,
              "#46039f"
             ],
             [
              0.2222222222222222,
              "#7201a8"
             ],
             [
              0.3333333333333333,
              "#9c179e"
             ],
             [
              0.4444444444444444,
              "#bd3786"
             ],
             [
              0.5555555555555556,
              "#d8576b"
             ],
             [
              0.6666666666666666,
              "#ed7953"
             ],
             [
              0.7777777777777778,
              "#fb9f3a"
             ],
             [
              0.8888888888888888,
              "#fdca26"
             ],
             [
              1,
              "#f0f921"
             ]
            ],
            "type": "contour"
           }
          ],
          "contourcarpet": [
           {
            "colorbar": {
             "outlinewidth": 0,
             "ticks": ""
            },
            "type": "contourcarpet"
           }
          ],
          "heatmap": [
           {
            "colorbar": {
             "outlinewidth": 0,
             "ticks": ""
            },
            "colorscale": [
             [
              0,
              "#0d0887"
             ],
             [
              0.1111111111111111,
              "#46039f"
             ],
             [
              0.2222222222222222,
              "#7201a8"
             ],
             [
              0.3333333333333333,
              "#9c179e"
             ],
             [
              0.4444444444444444,
              "#bd3786"
             ],
             [
              0.5555555555555556,
              "#d8576b"
             ],
             [
              0.6666666666666666,
              "#ed7953"
             ],
             [
              0.7777777777777778,
              "#fb9f3a"
             ],
             [
              0.8888888888888888,
              "#fdca26"
             ],
             [
              1,
              "#f0f921"
             ]
            ],
            "type": "heatmap"
           }
          ],
          "heatmapgl": [
           {
            "colorbar": {
             "outlinewidth": 0,
             "ticks": ""
            },
            "colorscale": [
             [
              0,
              "#0d0887"
             ],
             [
              0.1111111111111111,
              "#46039f"
             ],
             [
              0.2222222222222222,
              "#7201a8"
             ],
             [
              0.3333333333333333,
              "#9c179e"
             ],
             [
              0.4444444444444444,
              "#bd3786"
             ],
             [
              0.5555555555555556,
              "#d8576b"
             ],
             [
              0.6666666666666666,
              "#ed7953"
             ],
             [
              0.7777777777777778,
              "#fb9f3a"
             ],
             [
              0.8888888888888888,
              "#fdca26"
             ],
             [
              1,
              "#f0f921"
             ]
            ],
            "type": "heatmapgl"
           }
          ],
          "histogram": [
           {
            "marker": {
             "pattern": {
              "fillmode": "overlay",
              "size": 10,
              "solidity": 0.2
             }
            },
            "type": "histogram"
           }
          ],
          "histogram2d": [
           {
            "colorbar": {
             "outlinewidth": 0,
             "ticks": ""
            },
            "colorscale": [
             [
              0,
              "#0d0887"
             ],
             [
              0.1111111111111111,
              "#46039f"
             ],
             [
              0.2222222222222222,
              "#7201a8"
             ],
             [
              0.3333333333333333,
              "#9c179e"
             ],
             [
              0.4444444444444444,
              "#bd3786"
             ],
             [
              0.5555555555555556,
              "#d8576b"
             ],
             [
              0.6666666666666666,
              "#ed7953"
             ],
             [
              0.7777777777777778,
              "#fb9f3a"
             ],
             [
              0.8888888888888888,
              "#fdca26"
             ],
             [
              1,
              "#f0f921"
             ]
            ],
            "type": "histogram2d"
           }
          ],
          "histogram2dcontour": [
           {
            "colorbar": {
             "outlinewidth": 0,
             "ticks": ""
            },
            "colorscale": [
             [
              0,
              "#0d0887"
             ],
             [
              0.1111111111111111,
              "#46039f"
             ],
             [
              0.2222222222222222,
              "#7201a8"
             ],
             [
              0.3333333333333333,
              "#9c179e"
             ],
             [
              0.4444444444444444,
              "#bd3786"
             ],
             [
              0.5555555555555556,
              "#d8576b"
             ],
             [
              0.6666666666666666,
              "#ed7953"
             ],
             [
              0.7777777777777778,
              "#fb9f3a"
             ],
             [
              0.8888888888888888,
              "#fdca26"
             ],
             [
              1,
              "#f0f921"
             ]
            ],
            "type": "histogram2dcontour"
           }
          ],
          "mesh3d": [
           {
            "colorbar": {
             "outlinewidth": 0,
             "ticks": ""
            },
            "type": "mesh3d"
           }
          ],
          "parcoords": [
           {
            "line": {
             "colorbar": {
              "outlinewidth": 0,
              "ticks": ""
             }
            },
            "type": "parcoords"
           }
          ],
          "pie": [
           {
            "automargin": true,
            "type": "pie"
           }
          ],
          "scatter": [
           {
            "fillpattern": {
             "fillmode": "overlay",
             "size": 10,
             "solidity": 0.2
            },
            "type": "scatter"
           }
          ],
          "scatter3d": [
           {
            "line": {
             "colorbar": {
              "outlinewidth": 0,
              "ticks": ""
             }
            },
            "marker": {
             "colorbar": {
              "outlinewidth": 0,
              "ticks": ""
             }
            },
            "type": "scatter3d"
           }
          ],
          "scattercarpet": [
           {
            "marker": {
             "colorbar": {
              "outlinewidth": 0,
              "ticks": ""
             }
            },
            "type": "scattercarpet"
           }
          ],
          "scattergeo": [
           {
            "marker": {
             "colorbar": {
              "outlinewidth": 0,
              "ticks": ""
             }
            },
            "type": "scattergeo"
           }
          ],
          "scattergl": [
           {
            "marker": {
             "colorbar": {
              "outlinewidth": 0,
              "ticks": ""
             }
            },
            "type": "scattergl"
           }
          ],
          "scattermapbox": [
           {
            "marker": {
             "colorbar": {
              "outlinewidth": 0,
              "ticks": ""
             }
            },
            "type": "scattermapbox"
           }
          ],
          "scatterpolar": [
           {
            "marker": {
             "colorbar": {
              "outlinewidth": 0,
              "ticks": ""
             }
            },
            "type": "scatterpolar"
           }
          ],
          "scatterpolargl": [
           {
            "marker": {
             "colorbar": {
              "outlinewidth": 0,
              "ticks": ""
             }
            },
            "type": "scatterpolargl"
           }
          ],
          "scatterternary": [
           {
            "marker": {
             "colorbar": {
              "outlinewidth": 0,
              "ticks": ""
             }
            },
            "type": "scatterternary"
           }
          ],
          "surface": [
           {
            "colorbar": {
             "outlinewidth": 0,
             "ticks": ""
            },
            "colorscale": [
             [
              0,
              "#0d0887"
             ],
             [
              0.1111111111111111,
              "#46039f"
             ],
             [
              0.2222222222222222,
              "#7201a8"
             ],
             [
              0.3333333333333333,
              "#9c179e"
             ],
             [
              0.4444444444444444,
              "#bd3786"
             ],
             [
              0.5555555555555556,
              "#d8576b"
             ],
             [
              0.6666666666666666,
              "#ed7953"
             ],
             [
              0.7777777777777778,
              "#fb9f3a"
             ],
             [
              0.8888888888888888,
              "#fdca26"
             ],
             [
              1,
              "#f0f921"
             ]
            ],
            "type": "surface"
           }
          ],
          "table": [
           {
            "cells": {
             "fill": {
              "color": "#EBF0F8"
             },
             "line": {
              "color": "white"
             }
            },
            "header": {
             "fill": {
              "color": "#C8D4E3"
             },
             "line": {
              "color": "white"
             }
            },
            "type": "table"
           }
          ]
         },
         "layout": {
          "annotationdefaults": {
           "arrowcolor": "#2a3f5f",
           "arrowhead": 0,
           "arrowwidth": 1
          },
          "autotypenumbers": "strict",
          "coloraxis": {
           "colorbar": {
            "outlinewidth": 0,
            "ticks": ""
           }
          },
          "colorscale": {
           "diverging": [
            [
             0,
             "#8e0152"
            ],
            [
             0.1,
             "#c51b7d"
            ],
            [
             0.2,
             "#de77ae"
            ],
            [
             0.3,
             "#f1b6da"
            ],
            [
             0.4,
             "#fde0ef"
            ],
            [
             0.5,
             "#f7f7f7"
            ],
            [
             0.6,
             "#e6f5d0"
            ],
            [
             0.7,
             "#b8e186"
            ],
            [
             0.8,
             "#7fbc41"
            ],
            [
             0.9,
             "#4d9221"
            ],
            [
             1,
             "#276419"
            ]
           ],
           "sequential": [
            [
             0,
             "#0d0887"
            ],
            [
             0.1111111111111111,
             "#46039f"
            ],
            [
             0.2222222222222222,
             "#7201a8"
            ],
            [
             0.3333333333333333,
             "#9c179e"
            ],
            [
             0.4444444444444444,
             "#bd3786"
            ],
            [
             0.5555555555555556,
             "#d8576b"
            ],
            [
             0.6666666666666666,
             "#ed7953"
            ],
            [
             0.7777777777777778,
             "#fb9f3a"
            ],
            [
             0.8888888888888888,
             "#fdca26"
            ],
            [
             1,
             "#f0f921"
            ]
           ],
           "sequentialminus": [
            [
             0,
             "#0d0887"
            ],
            [
             0.1111111111111111,
             "#46039f"
            ],
            [
             0.2222222222222222,
             "#7201a8"
            ],
            [
             0.3333333333333333,
             "#9c179e"
            ],
            [
             0.4444444444444444,
             "#bd3786"
            ],
            [
             0.5555555555555556,
             "#d8576b"
            ],
            [
             0.6666666666666666,
             "#ed7953"
            ],
            [
             0.7777777777777778,
             "#fb9f3a"
            ],
            [
             0.8888888888888888,
             "#fdca26"
            ],
            [
             1,
             "#f0f921"
            ]
           ]
          },
          "colorway": [
           "#636efa",
           "#EF553B",
           "#00cc96",
           "#ab63fa",
           "#FFA15A",
           "#19d3f3",
           "#FF6692",
           "#B6E880",
           "#FF97FF",
           "#FECB52"
          ],
          "font": {
           "color": "#2a3f5f"
          },
          "geo": {
           "bgcolor": "white",
           "lakecolor": "white",
           "landcolor": "#E5ECF6",
           "showlakes": true,
           "showland": true,
           "subunitcolor": "white"
          },
          "hoverlabel": {
           "align": "left"
          },
          "hovermode": "closest",
          "mapbox": {
           "style": "light"
          },
          "paper_bgcolor": "white",
          "plot_bgcolor": "#E5ECF6",
          "polar": {
           "angularaxis": {
            "gridcolor": "white",
            "linecolor": "white",
            "ticks": ""
           },
           "bgcolor": "#E5ECF6",
           "radialaxis": {
            "gridcolor": "white",
            "linecolor": "white",
            "ticks": ""
           }
          },
          "scene": {
           "xaxis": {
            "backgroundcolor": "#E5ECF6",
            "gridcolor": "white",
            "gridwidth": 2,
            "linecolor": "white",
            "showbackground": true,
            "ticks": "",
            "zerolinecolor": "white"
           },
           "yaxis": {
            "backgroundcolor": "#E5ECF6",
            "gridcolor": "white",
            "gridwidth": 2,
            "linecolor": "white",
            "showbackground": true,
            "ticks": "",
            "zerolinecolor": "white"
           },
           "zaxis": {
            "backgroundcolor": "#E5ECF6",
            "gridcolor": "white",
            "gridwidth": 2,
            "linecolor": "white",
            "showbackground": true,
            "ticks": "",
            "zerolinecolor": "white"
           }
          },
          "shapedefaults": {
           "line": {
            "color": "#2a3f5f"
           }
          },
          "ternary": {
           "aaxis": {
            "gridcolor": "white",
            "linecolor": "white",
            "ticks": ""
           },
           "baxis": {
            "gridcolor": "white",
            "linecolor": "white",
            "ticks": ""
           },
           "bgcolor": "#E5ECF6",
           "caxis": {
            "gridcolor": "white",
            "linecolor": "white",
            "ticks": ""
           }
          },
          "title": {
           "x": 0.05
          },
          "xaxis": {
           "automargin": true,
           "gridcolor": "white",
           "linecolor": "white",
           "ticks": "",
           "title": {
            "standoff": 15
           },
           "zerolinecolor": "white",
           "zerolinewidth": 2
          },
          "yaxis": {
           "automargin": true,
           "gridcolor": "white",
           "linecolor": "white",
           "ticks": "",
           "title": {
            "standoff": 15
           },
           "zerolinecolor": "white",
           "zerolinewidth": 2
          }
         }
        },
        "title": {
         "text": "Slice Plot"
        },
        "xaxis": {
         "anchor": "y",
         "domain": [
          0,
          0.2888888888888889
         ],
         "title": {
          "text": "max_depth"
         }
        },
        "xaxis2": {
         "anchor": "y2",
         "domain": [
          0.35555555555555557,
          0.6444444444444445
         ],
         "title": {
          "text": "min_samples_split"
         }
        },
        "xaxis3": {
         "anchor": "y3",
         "domain": [
          0.7111111111111111,
          1
         ],
         "title": {
          "text": "n_estimators"
         }
        },
        "yaxis": {
         "anchor": "x",
         "domain": [
          0,
          1
         ],
         "title": {
          "text": "Objective Value"
         }
        },
        "yaxis2": {
         "anchor": "x2",
         "domain": [
          0,
          1
         ],
         "matches": "y",
         "showticklabels": false
        },
        "yaxis3": {
         "anchor": "x3",
         "domain": [
          0,
          1
         ],
         "matches": "y",
         "showticklabels": false
        }
       }
      }
     },
     "metadata": {},
     "output_type": "display_data"
    }
   ],
   "source": [
    "optuna.visualization.plot_slice(study)"
   ]
  },
  {
   "cell_type": "code",
   "execution_count": 17,
   "metadata": {},
   "outputs": [
    {
     "data": {
      "application/vnd.plotly.v1+json": {
       "config": {
        "plotlyServerURL": "https://plot.ly"
       },
       "data": [
        {
         "dimensions": [
          {
           "label": "Objective Value",
           "range": [
            0.86,
            0.9066666666666666
           ],
           "values": [
            0.88,
            0.8766666666666667,
            0.8733333333333333,
            0.8766666666666667,
            0.86,
            0.8766666666666667,
            0.8833333333333333,
            0.87,
            0.8733333333333333,
            0.88,
            0.8833333333333333,
            0.87,
            0.8766666666666667,
            0.8966666666666666,
            0.87,
            0.87,
            0.8866666666666667,
            0.8733333333333333,
            0.86,
            0.8866666666666667,
            0.8733333333333333,
            0.8766666666666667,
            0.8833333333333333,
            0.8766666666666667,
            0.8766666666666667,
            0.8833333333333333,
            0.8833333333333333,
            0.8833333333333333,
            0.8766666666666667,
            0.87,
            0.8833333333333333,
            0.8766666666666667,
            0.8833333333333333,
            0.8766666666666667,
            0.8733333333333333,
            0.8733333333333333,
            0.8833333333333333,
            0.88,
            0.8666666666666667,
            0.8733333333333333,
            0.8766666666666667,
            0.8666666666666667,
            0.8666666666666667,
            0.8766666666666667,
            0.88,
            0.8733333333333333,
            0.88,
            0.89,
            0.8766666666666667,
            0.88,
            0.8766666666666667,
            0.88,
            0.89,
            0.88,
            0.86,
            0.8833333333333333,
            0.8733333333333333,
            0.8766666666666667,
            0.8633333333333333,
            0.8766666666666667,
            0.8766666666666667,
            0.8833333333333333,
            0.8733333333333333,
            0.8866666666666667,
            0.8766666666666667,
            0.8866666666666667,
            0.89,
            0.8766666666666667,
            0.8933333333333333,
            0.8833333333333333,
            0.8766666666666667,
            0.8833333333333333,
            0.8733333333333333,
            0.88,
            0.8766666666666667,
            0.8733333333333333,
            0.88,
            0.8733333333333333,
            0.9066666666666666,
            0.9033333333333333,
            0.8866666666666667,
            0.8833333333333333,
            0.8733333333333333,
            0.8733333333333333,
            0.8766666666666667,
            0.89,
            0.88,
            0.8866666666666667,
            0.8633333333333333,
            0.8766666666666667,
            0.89,
            0.8733333333333333,
            0.8933333333333333,
            0.8833333333333333,
            0.9,
            0.89,
            0.8733333333333333,
            0.89,
            0.8766666666666667,
            0.8866666666666667
           ]
          },
          {
           "label": "max_depth",
           "range": [
            5,
            30
           ],
           "values": [
            24,
            25,
            29,
            29,
            9,
            15,
            19,
            9,
            30,
            14,
            20,
            21,
            19,
            15,
            14,
            5,
            10,
            10,
            6,
            12,
            17,
            11,
            13,
            7,
            12,
            16,
            8,
            12,
            17,
            23,
            11,
            19,
            22,
            15,
            18,
            24,
            27,
            13,
            9,
            15,
            16,
            20,
            21,
            19,
            25,
            18,
            14,
            10,
            10,
            8,
            11,
            13,
            10,
            10,
            6,
            8,
            9,
            12,
            7,
            14,
            16,
            20,
            10,
            11,
            12,
            11,
            11,
            9,
            13,
            13,
            10,
            11,
            12,
            15,
            13,
            14,
            8,
            10,
            12,
            12,
            12,
            14,
            9,
            12,
            13,
            11,
            11,
            9,
            7,
            15,
            10,
            10,
            11,
            11,
            13,
            13,
            14,
            12,
            16,
            11
           ]
          },
          {
           "label": "min_samples_split",
           "range": [
            2,
            20
           ],
           "values": [
            3,
            12,
            15,
            3,
            15,
            16,
            14,
            7,
            15,
            15,
            19,
            20,
            20,
            10,
            10,
            10,
            7,
            7,
            7,
            5,
            9,
            5,
            5,
            5,
            8,
            12,
            2,
            6,
            9,
            4,
            11,
            13,
            13,
            17,
            13,
            3,
            8,
            11,
            6,
            17,
            2,
            19,
            18,
            14,
            9,
            16,
            10,
            8,
            8,
            6,
            12,
            7,
            8,
            8,
            11,
            4,
            9,
            10,
            6,
            7,
            4,
            20,
            9,
            5,
            5,
            8,
            8,
            7,
            3,
            6,
            3,
            5,
            4,
            2,
            7,
            5,
            10,
            8,
            3,
            3,
            3,
            2,
            3,
            4,
            9,
            6,
            7,
            2,
            6,
            8,
            3,
            3,
            3,
            4,
            3,
            2,
            4,
            3,
            2,
            3
           ]
          },
          {
           "label": "n_estimators",
           "range": [
            51,
            200
           ],
           "values": [
            81,
            125,
            65,
            108,
            179,
            146,
            115,
            131,
            85,
            117,
            199,
            199,
            162,
            199,
            154,
            100,
            51,
            59,
            173,
            141,
            88,
            140,
            51,
            182,
            165,
            187,
            136,
            151,
            71,
            101,
            94,
            74,
            118,
            113,
            124,
            79,
            163,
            189,
            106,
            134,
            61,
            198,
            174,
            191,
            200,
            126,
            175,
            146,
            146,
            158,
            126,
            142,
            194,
            193,
            168,
            183,
            152,
            88,
            169,
            51,
            180,
            198,
            185,
            193,
            193,
            156,
            156,
            144,
            138,
            148,
            137,
            159,
            141,
            121,
            129,
            130,
            135,
            178,
            150,
            149,
            151,
            161,
            149,
            137,
            155,
            145,
            145,
            167,
            112,
            132,
            153,
            153,
            140,
            139,
            146,
            148,
            143,
            163,
            158,
            139
           ]
          }
         ],
         "labelangle": 30,
         "labelside": "bottom",
         "line": {
          "color": [
           0.88,
           0.8766666666666667,
           0.8733333333333333,
           0.8766666666666667,
           0.86,
           0.8766666666666667,
           0.8833333333333333,
           0.87,
           0.8733333333333333,
           0.88,
           0.8833333333333333,
           0.87,
           0.8766666666666667,
           0.8966666666666666,
           0.87,
           0.87,
           0.8866666666666667,
           0.8733333333333333,
           0.86,
           0.8866666666666667,
           0.8733333333333333,
           0.8766666666666667,
           0.8833333333333333,
           0.8766666666666667,
           0.8766666666666667,
           0.8833333333333333,
           0.8833333333333333,
           0.8833333333333333,
           0.8766666666666667,
           0.87,
           0.8833333333333333,
           0.8766666666666667,
           0.8833333333333333,
           0.8766666666666667,
           0.8733333333333333,
           0.8733333333333333,
           0.8833333333333333,
           0.88,
           0.8666666666666667,
           0.8733333333333333,
           0.8766666666666667,
           0.8666666666666667,
           0.8666666666666667,
           0.8766666666666667,
           0.88,
           0.8733333333333333,
           0.88,
           0.89,
           0.8766666666666667,
           0.88,
           0.8766666666666667,
           0.88,
           0.89,
           0.88,
           0.86,
           0.8833333333333333,
           0.8733333333333333,
           0.8766666666666667,
           0.8633333333333333,
           0.8766666666666667,
           0.8766666666666667,
           0.8833333333333333,
           0.8733333333333333,
           0.8866666666666667,
           0.8766666666666667,
           0.8866666666666667,
           0.89,
           0.8766666666666667,
           0.8933333333333333,
           0.8833333333333333,
           0.8766666666666667,
           0.8833333333333333,
           0.8733333333333333,
           0.88,
           0.8766666666666667,
           0.8733333333333333,
           0.88,
           0.8733333333333333,
           0.9066666666666666,
           0.9033333333333333,
           0.8866666666666667,
           0.8833333333333333,
           0.8733333333333333,
           0.8733333333333333,
           0.8766666666666667,
           0.89,
           0.88,
           0.8866666666666667,
           0.8633333333333333,
           0.8766666666666667,
           0.89,
           0.8733333333333333,
           0.8933333333333333,
           0.8833333333333333,
           0.9,
           0.89,
           0.8733333333333333,
           0.89,
           0.8766666666666667,
           0.8866666666666667
          ],
          "colorbar": {
           "title": {
            "text": "Objective Value"
           }
          },
          "colorscale": [
           [
            0,
            "rgb(247,251,255)"
           ],
           [
            0.125,
            "rgb(222,235,247)"
           ],
           [
            0.25,
            "rgb(198,219,239)"
           ],
           [
            0.375,
            "rgb(158,202,225)"
           ],
           [
            0.5,
            "rgb(107,174,214)"
           ],
           [
            0.625,
            "rgb(66,146,198)"
           ],
           [
            0.75,
            "rgb(33,113,181)"
           ],
           [
            0.875,
            "rgb(8,81,156)"
           ],
           [
            1,
            "rgb(8,48,107)"
           ]
          ],
          "reversescale": false,
          "showscale": true
         },
         "type": "parcoords"
        }
       ],
       "layout": {
        "template": {
         "data": {
          "bar": [
           {
            "error_x": {
             "color": "#2a3f5f"
            },
            "error_y": {
             "color": "#2a3f5f"
            },
            "marker": {
             "line": {
              "color": "#E5ECF6",
              "width": 0.5
             },
             "pattern": {
              "fillmode": "overlay",
              "size": 10,
              "solidity": 0.2
             }
            },
            "type": "bar"
           }
          ],
          "barpolar": [
           {
            "marker": {
             "line": {
              "color": "#E5ECF6",
              "width": 0.5
             },
             "pattern": {
              "fillmode": "overlay",
              "size": 10,
              "solidity": 0.2
             }
            },
            "type": "barpolar"
           }
          ],
          "carpet": [
           {
            "aaxis": {
             "endlinecolor": "#2a3f5f",
             "gridcolor": "white",
             "linecolor": "white",
             "minorgridcolor": "white",
             "startlinecolor": "#2a3f5f"
            },
            "baxis": {
             "endlinecolor": "#2a3f5f",
             "gridcolor": "white",
             "linecolor": "white",
             "minorgridcolor": "white",
             "startlinecolor": "#2a3f5f"
            },
            "type": "carpet"
           }
          ],
          "choropleth": [
           {
            "colorbar": {
             "outlinewidth": 0,
             "ticks": ""
            },
            "type": "choropleth"
           }
          ],
          "contour": [
           {
            "colorbar": {
             "outlinewidth": 0,
             "ticks": ""
            },
            "colorscale": [
             [
              0,
              "#0d0887"
             ],
             [
              0.1111111111111111,
              "#46039f"
             ],
             [
              0.2222222222222222,
              "#7201a8"
             ],
             [
              0.3333333333333333,
              "#9c179e"
             ],
             [
              0.4444444444444444,
              "#bd3786"
             ],
             [
              0.5555555555555556,
              "#d8576b"
             ],
             [
              0.6666666666666666,
              "#ed7953"
             ],
             [
              0.7777777777777778,
              "#fb9f3a"
             ],
             [
              0.8888888888888888,
              "#fdca26"
             ],
             [
              1,
              "#f0f921"
             ]
            ],
            "type": "contour"
           }
          ],
          "contourcarpet": [
           {
            "colorbar": {
             "outlinewidth": 0,
             "ticks": ""
            },
            "type": "contourcarpet"
           }
          ],
          "heatmap": [
           {
            "colorbar": {
             "outlinewidth": 0,
             "ticks": ""
            },
            "colorscale": [
             [
              0,
              "#0d0887"
             ],
             [
              0.1111111111111111,
              "#46039f"
             ],
             [
              0.2222222222222222,
              "#7201a8"
             ],
             [
              0.3333333333333333,
              "#9c179e"
             ],
             [
              0.4444444444444444,
              "#bd3786"
             ],
             [
              0.5555555555555556,
              "#d8576b"
             ],
             [
              0.6666666666666666,
              "#ed7953"
             ],
             [
              0.7777777777777778,
              "#fb9f3a"
             ],
             [
              0.8888888888888888,
              "#fdca26"
             ],
             [
              1,
              "#f0f921"
             ]
            ],
            "type": "heatmap"
           }
          ],
          "heatmapgl": [
           {
            "colorbar": {
             "outlinewidth": 0,
             "ticks": ""
            },
            "colorscale": [
             [
              0,
              "#0d0887"
             ],
             [
              0.1111111111111111,
              "#46039f"
             ],
             [
              0.2222222222222222,
              "#7201a8"
             ],
             [
              0.3333333333333333,
              "#9c179e"
             ],
             [
              0.4444444444444444,
              "#bd3786"
             ],
             [
              0.5555555555555556,
              "#d8576b"
             ],
             [
              0.6666666666666666,
              "#ed7953"
             ],
             [
              0.7777777777777778,
              "#fb9f3a"
             ],
             [
              0.8888888888888888,
              "#fdca26"
             ],
             [
              1,
              "#f0f921"
             ]
            ],
            "type": "heatmapgl"
           }
          ],
          "histogram": [
           {
            "marker": {
             "pattern": {
              "fillmode": "overlay",
              "size": 10,
              "solidity": 0.2
             }
            },
            "type": "histogram"
           }
          ],
          "histogram2d": [
           {
            "colorbar": {
             "outlinewidth": 0,
             "ticks": ""
            },
            "colorscale": [
             [
              0,
              "#0d0887"
             ],
             [
              0.1111111111111111,
              "#46039f"
             ],
             [
              0.2222222222222222,
              "#7201a8"
             ],
             [
              0.3333333333333333,
              "#9c179e"
             ],
             [
              0.4444444444444444,
              "#bd3786"
             ],
             [
              0.5555555555555556,
              "#d8576b"
             ],
             [
              0.6666666666666666,
              "#ed7953"
             ],
             [
              0.7777777777777778,
              "#fb9f3a"
             ],
             [
              0.8888888888888888,
              "#fdca26"
             ],
             [
              1,
              "#f0f921"
             ]
            ],
            "type": "histogram2d"
           }
          ],
          "histogram2dcontour": [
           {
            "colorbar": {
             "outlinewidth": 0,
             "ticks": ""
            },
            "colorscale": [
             [
              0,
              "#0d0887"
             ],
             [
              0.1111111111111111,
              "#46039f"
             ],
             [
              0.2222222222222222,
              "#7201a8"
             ],
             [
              0.3333333333333333,
              "#9c179e"
             ],
             [
              0.4444444444444444,
              "#bd3786"
             ],
             [
              0.5555555555555556,
              "#d8576b"
             ],
             [
              0.6666666666666666,
              "#ed7953"
             ],
             [
              0.7777777777777778,
              "#fb9f3a"
             ],
             [
              0.8888888888888888,
              "#fdca26"
             ],
             [
              1,
              "#f0f921"
             ]
            ],
            "type": "histogram2dcontour"
           }
          ],
          "mesh3d": [
           {
            "colorbar": {
             "outlinewidth": 0,
             "ticks": ""
            },
            "type": "mesh3d"
           }
          ],
          "parcoords": [
           {
            "line": {
             "colorbar": {
              "outlinewidth": 0,
              "ticks": ""
             }
            },
            "type": "parcoords"
           }
          ],
          "pie": [
           {
            "automargin": true,
            "type": "pie"
           }
          ],
          "scatter": [
           {
            "fillpattern": {
             "fillmode": "overlay",
             "size": 10,
             "solidity": 0.2
            },
            "type": "scatter"
           }
          ],
          "scatter3d": [
           {
            "line": {
             "colorbar": {
              "outlinewidth": 0,
              "ticks": ""
             }
            },
            "marker": {
             "colorbar": {
              "outlinewidth": 0,
              "ticks": ""
             }
            },
            "type": "scatter3d"
           }
          ],
          "scattercarpet": [
           {
            "marker": {
             "colorbar": {
              "outlinewidth": 0,
              "ticks": ""
             }
            },
            "type": "scattercarpet"
           }
          ],
          "scattergeo": [
           {
            "marker": {
             "colorbar": {
              "outlinewidth": 0,
              "ticks": ""
             }
            },
            "type": "scattergeo"
           }
          ],
          "scattergl": [
           {
            "marker": {
             "colorbar": {
              "outlinewidth": 0,
              "ticks": ""
             }
            },
            "type": "scattergl"
           }
          ],
          "scattermapbox": [
           {
            "marker": {
             "colorbar": {
              "outlinewidth": 0,
              "ticks": ""
             }
            },
            "type": "scattermapbox"
           }
          ],
          "scatterpolar": [
           {
            "marker": {
             "colorbar": {
              "outlinewidth": 0,
              "ticks": ""
             }
            },
            "type": "scatterpolar"
           }
          ],
          "scatterpolargl": [
           {
            "marker": {
             "colorbar": {
              "outlinewidth": 0,
              "ticks": ""
             }
            },
            "type": "scatterpolargl"
           }
          ],
          "scatterternary": [
           {
            "marker": {
             "colorbar": {
              "outlinewidth": 0,
              "ticks": ""
             }
            },
            "type": "scatterternary"
           }
          ],
          "surface": [
           {
            "colorbar": {
             "outlinewidth": 0,
             "ticks": ""
            },
            "colorscale": [
             [
              0,
              "#0d0887"
             ],
             [
              0.1111111111111111,
              "#46039f"
             ],
             [
              0.2222222222222222,
              "#7201a8"
             ],
             [
              0.3333333333333333,
              "#9c179e"
             ],
             [
              0.4444444444444444,
              "#bd3786"
             ],
             [
              0.5555555555555556,
              "#d8576b"
             ],
             [
              0.6666666666666666,
              "#ed7953"
             ],
             [
              0.7777777777777778,
              "#fb9f3a"
             ],
             [
              0.8888888888888888,
              "#fdca26"
             ],
             [
              1,
              "#f0f921"
             ]
            ],
            "type": "surface"
           }
          ],
          "table": [
           {
            "cells": {
             "fill": {
              "color": "#EBF0F8"
             },
             "line": {
              "color": "white"
             }
            },
            "header": {
             "fill": {
              "color": "#C8D4E3"
             },
             "line": {
              "color": "white"
             }
            },
            "type": "table"
           }
          ]
         },
         "layout": {
          "annotationdefaults": {
           "arrowcolor": "#2a3f5f",
           "arrowhead": 0,
           "arrowwidth": 1
          },
          "autotypenumbers": "strict",
          "coloraxis": {
           "colorbar": {
            "outlinewidth": 0,
            "ticks": ""
           }
          },
          "colorscale": {
           "diverging": [
            [
             0,
             "#8e0152"
            ],
            [
             0.1,
             "#c51b7d"
            ],
            [
             0.2,
             "#de77ae"
            ],
            [
             0.3,
             "#f1b6da"
            ],
            [
             0.4,
             "#fde0ef"
            ],
            [
             0.5,
             "#f7f7f7"
            ],
            [
             0.6,
             "#e6f5d0"
            ],
            [
             0.7,
             "#b8e186"
            ],
            [
             0.8,
             "#7fbc41"
            ],
            [
             0.9,
             "#4d9221"
            ],
            [
             1,
             "#276419"
            ]
           ],
           "sequential": [
            [
             0,
             "#0d0887"
            ],
            [
             0.1111111111111111,
             "#46039f"
            ],
            [
             0.2222222222222222,
             "#7201a8"
            ],
            [
             0.3333333333333333,
             "#9c179e"
            ],
            [
             0.4444444444444444,
             "#bd3786"
            ],
            [
             0.5555555555555556,
             "#d8576b"
            ],
            [
             0.6666666666666666,
             "#ed7953"
            ],
            [
             0.7777777777777778,
             "#fb9f3a"
            ],
            [
             0.8888888888888888,
             "#fdca26"
            ],
            [
             1,
             "#f0f921"
            ]
           ],
           "sequentialminus": [
            [
             0,
             "#0d0887"
            ],
            [
             0.1111111111111111,
             "#46039f"
            ],
            [
             0.2222222222222222,
             "#7201a8"
            ],
            [
             0.3333333333333333,
             "#9c179e"
            ],
            [
             0.4444444444444444,
             "#bd3786"
            ],
            [
             0.5555555555555556,
             "#d8576b"
            ],
            [
             0.6666666666666666,
             "#ed7953"
            ],
            [
             0.7777777777777778,
             "#fb9f3a"
            ],
            [
             0.8888888888888888,
             "#fdca26"
            ],
            [
             1,
             "#f0f921"
            ]
           ]
          },
          "colorway": [
           "#636efa",
           "#EF553B",
           "#00cc96",
           "#ab63fa",
           "#FFA15A",
           "#19d3f3",
           "#FF6692",
           "#B6E880",
           "#FF97FF",
           "#FECB52"
          ],
          "font": {
           "color": "#2a3f5f"
          },
          "geo": {
           "bgcolor": "white",
           "lakecolor": "white",
           "landcolor": "#E5ECF6",
           "showlakes": true,
           "showland": true,
           "subunitcolor": "white"
          },
          "hoverlabel": {
           "align": "left"
          },
          "hovermode": "closest",
          "mapbox": {
           "style": "light"
          },
          "paper_bgcolor": "white",
          "plot_bgcolor": "#E5ECF6",
          "polar": {
           "angularaxis": {
            "gridcolor": "white",
            "linecolor": "white",
            "ticks": ""
           },
           "bgcolor": "#E5ECF6",
           "radialaxis": {
            "gridcolor": "white",
            "linecolor": "white",
            "ticks": ""
           }
          },
          "scene": {
           "xaxis": {
            "backgroundcolor": "#E5ECF6",
            "gridcolor": "white",
            "gridwidth": 2,
            "linecolor": "white",
            "showbackground": true,
            "ticks": "",
            "zerolinecolor": "white"
           },
           "yaxis": {
            "backgroundcolor": "#E5ECF6",
            "gridcolor": "white",
            "gridwidth": 2,
            "linecolor": "white",
            "showbackground": true,
            "ticks": "",
            "zerolinecolor": "white"
           },
           "zaxis": {
            "backgroundcolor": "#E5ECF6",
            "gridcolor": "white",
            "gridwidth": 2,
            "linecolor": "white",
            "showbackground": true,
            "ticks": "",
            "zerolinecolor": "white"
           }
          },
          "shapedefaults": {
           "line": {
            "color": "#2a3f5f"
           }
          },
          "ternary": {
           "aaxis": {
            "gridcolor": "white",
            "linecolor": "white",
            "ticks": ""
           },
           "baxis": {
            "gridcolor": "white",
            "linecolor": "white",
            "ticks": ""
           },
           "bgcolor": "#E5ECF6",
           "caxis": {
            "gridcolor": "white",
            "linecolor": "white",
            "ticks": ""
           }
          },
          "title": {
           "x": 0.05
          },
          "xaxis": {
           "automargin": true,
           "gridcolor": "white",
           "linecolor": "white",
           "ticks": "",
           "title": {
            "standoff": 15
           },
           "zerolinecolor": "white",
           "zerolinewidth": 2
          },
          "yaxis": {
           "automargin": true,
           "gridcolor": "white",
           "linecolor": "white",
           "ticks": "",
           "title": {
            "standoff": 15
           },
           "zerolinecolor": "white",
           "zerolinewidth": 2
          }
         }
        },
        "title": {
         "text": "Parallel Coordinate Plot"
        }
       }
      }
     },
     "metadata": {},
     "output_type": "display_data"
    }
   ],
   "source": [
    "optuna.visualization.plot_parallel_coordinate(study)"
   ]
  },
  {
   "cell_type": "code",
   "execution_count": 18,
   "metadata": {},
   "outputs": [
    {
     "data": {
      "application/vnd.plotly.v1+json": {
       "config": {
        "plotlyServerURL": "https://plot.ly"
       },
       "data": [
        {
         "mode": "markers",
         "name": "Objective Value",
         "type": "scatter",
         "x": [
          0,
          1,
          2,
          3,
          4,
          5,
          6,
          7,
          8,
          9,
          10,
          11,
          12,
          13,
          14,
          15,
          16,
          17,
          18,
          19,
          20,
          21,
          22,
          23,
          24,
          25,
          26,
          27,
          28,
          29,
          30,
          31,
          32,
          33,
          34,
          35,
          36,
          37,
          38,
          39,
          40,
          41,
          42,
          43,
          44,
          45,
          46,
          47,
          48,
          49,
          50,
          51,
          52,
          53,
          54,
          55,
          56,
          57,
          58,
          59,
          60,
          61,
          62,
          63,
          64,
          65,
          66,
          67,
          68,
          69,
          70,
          71,
          72,
          73,
          74,
          75,
          76,
          77,
          78,
          79,
          80,
          81,
          82,
          83,
          84,
          85,
          86,
          87,
          88,
          89,
          90,
          91,
          92,
          93,
          94,
          95,
          96,
          97,
          98,
          99
         ],
         "y": [
          0.88,
          0.8766666666666667,
          0.8733333333333333,
          0.8766666666666667,
          0.86,
          0.8766666666666667,
          0.8833333333333333,
          0.87,
          0.8733333333333333,
          0.88,
          0.8833333333333333,
          0.87,
          0.8766666666666667,
          0.8966666666666666,
          0.87,
          0.87,
          0.8866666666666667,
          0.8733333333333333,
          0.86,
          0.8866666666666667,
          0.8733333333333333,
          0.8766666666666667,
          0.8833333333333333,
          0.8766666666666667,
          0.8766666666666667,
          0.8833333333333333,
          0.8833333333333333,
          0.8833333333333333,
          0.8766666666666667,
          0.87,
          0.8833333333333333,
          0.8766666666666667,
          0.8833333333333333,
          0.8766666666666667,
          0.8733333333333333,
          0.8733333333333333,
          0.8833333333333333,
          0.88,
          0.8666666666666667,
          0.8733333333333333,
          0.8766666666666667,
          0.8666666666666667,
          0.8666666666666667,
          0.8766666666666667,
          0.88,
          0.8733333333333333,
          0.88,
          0.89,
          0.8766666666666667,
          0.88,
          0.8766666666666667,
          0.88,
          0.89,
          0.88,
          0.86,
          0.8833333333333333,
          0.8733333333333333,
          0.8766666666666667,
          0.8633333333333333,
          0.8766666666666667,
          0.8766666666666667,
          0.8833333333333333,
          0.8733333333333333,
          0.8866666666666667,
          0.8766666666666667,
          0.8866666666666667,
          0.89,
          0.8766666666666667,
          0.8933333333333333,
          0.8833333333333333,
          0.8766666666666667,
          0.8833333333333333,
          0.8733333333333333,
          0.88,
          0.8766666666666667,
          0.8733333333333333,
          0.88,
          0.8733333333333333,
          0.9066666666666666,
          0.9033333333333333,
          0.8866666666666667,
          0.8833333333333333,
          0.8733333333333333,
          0.8733333333333333,
          0.8766666666666667,
          0.89,
          0.88,
          0.8866666666666667,
          0.8633333333333333,
          0.8766666666666667,
          0.89,
          0.8733333333333333,
          0.8933333333333333,
          0.8833333333333333,
          0.9,
          0.89,
          0.8733333333333333,
          0.89,
          0.8766666666666667,
          0.8866666666666667
         ]
        },
        {
         "mode": "lines",
         "name": "Best Value",
         "type": "scatter",
         "x": [
          0,
          1,
          2,
          3,
          4,
          5,
          6,
          7,
          8,
          9,
          10,
          11,
          12,
          13,
          14,
          15,
          16,
          17,
          18,
          19,
          20,
          21,
          22,
          23,
          24,
          25,
          26,
          27,
          28,
          29,
          30,
          31,
          32,
          33,
          34,
          35,
          36,
          37,
          38,
          39,
          40,
          41,
          42,
          43,
          44,
          45,
          46,
          47,
          48,
          49,
          50,
          51,
          52,
          53,
          54,
          55,
          56,
          57,
          58,
          59,
          60,
          61,
          62,
          63,
          64,
          65,
          66,
          67,
          68,
          69,
          70,
          71,
          72,
          73,
          74,
          75,
          76,
          77,
          78,
          79,
          80,
          81,
          82,
          83,
          84,
          85,
          86,
          87,
          88,
          89,
          90,
          91,
          92,
          93,
          94,
          95,
          96,
          97,
          98,
          99
         ],
         "y": [
          0.88,
          0.88,
          0.88,
          0.88,
          0.88,
          0.88,
          0.8833333333333333,
          0.8833333333333333,
          0.8833333333333333,
          0.8833333333333333,
          0.8833333333333333,
          0.8833333333333333,
          0.8833333333333333,
          0.8966666666666666,
          0.8966666666666666,
          0.8966666666666666,
          0.8966666666666666,
          0.8966666666666666,
          0.8966666666666666,
          0.8966666666666666,
          0.8966666666666666,
          0.8966666666666666,
          0.8966666666666666,
          0.8966666666666666,
          0.8966666666666666,
          0.8966666666666666,
          0.8966666666666666,
          0.8966666666666666,
          0.8966666666666666,
          0.8966666666666666,
          0.8966666666666666,
          0.8966666666666666,
          0.8966666666666666,
          0.8966666666666666,
          0.8966666666666666,
          0.8966666666666666,
          0.8966666666666666,
          0.8966666666666666,
          0.8966666666666666,
          0.8966666666666666,
          0.8966666666666666,
          0.8966666666666666,
          0.8966666666666666,
          0.8966666666666666,
          0.8966666666666666,
          0.8966666666666666,
          0.8966666666666666,
          0.8966666666666666,
          0.8966666666666666,
          0.8966666666666666,
          0.8966666666666666,
          0.8966666666666666,
          0.8966666666666666,
          0.8966666666666666,
          0.8966666666666666,
          0.8966666666666666,
          0.8966666666666666,
          0.8966666666666666,
          0.8966666666666666,
          0.8966666666666666,
          0.8966666666666666,
          0.8966666666666666,
          0.8966666666666666,
          0.8966666666666666,
          0.8966666666666666,
          0.8966666666666666,
          0.8966666666666666,
          0.8966666666666666,
          0.8966666666666666,
          0.8966666666666666,
          0.8966666666666666,
          0.8966666666666666,
          0.8966666666666666,
          0.8966666666666666,
          0.8966666666666666,
          0.8966666666666666,
          0.8966666666666666,
          0.8966666666666666,
          0.9066666666666666,
          0.9066666666666666,
          0.9066666666666666,
          0.9066666666666666,
          0.9066666666666666,
          0.9066666666666666,
          0.9066666666666666,
          0.9066666666666666,
          0.9066666666666666,
          0.9066666666666666,
          0.9066666666666666,
          0.9066666666666666,
          0.9066666666666666,
          0.9066666666666666,
          0.9066666666666666,
          0.9066666666666666,
          0.9066666666666666,
          0.9066666666666666,
          0.9066666666666666,
          0.9066666666666666,
          0.9066666666666666,
          0.9066666666666666
         ]
        },
        {
         "marker": {
          "color": "#cccccc"
         },
         "mode": "markers",
         "name": "Infeasible Trial",
         "showlegend": false,
         "type": "scatter",
         "x": [],
         "y": []
        }
       ],
       "layout": {
        "template": {
         "data": {
          "bar": [
           {
            "error_x": {
             "color": "#2a3f5f"
            },
            "error_y": {
             "color": "#2a3f5f"
            },
            "marker": {
             "line": {
              "color": "#E5ECF6",
              "width": 0.5
             },
             "pattern": {
              "fillmode": "overlay",
              "size": 10,
              "solidity": 0.2
             }
            },
            "type": "bar"
           }
          ],
          "barpolar": [
           {
            "marker": {
             "line": {
              "color": "#E5ECF6",
              "width": 0.5
             },
             "pattern": {
              "fillmode": "overlay",
              "size": 10,
              "solidity": 0.2
             }
            },
            "type": "barpolar"
           }
          ],
          "carpet": [
           {
            "aaxis": {
             "endlinecolor": "#2a3f5f",
             "gridcolor": "white",
             "linecolor": "white",
             "minorgridcolor": "white",
             "startlinecolor": "#2a3f5f"
            },
            "baxis": {
             "endlinecolor": "#2a3f5f",
             "gridcolor": "white",
             "linecolor": "white",
             "minorgridcolor": "white",
             "startlinecolor": "#2a3f5f"
            },
            "type": "carpet"
           }
          ],
          "choropleth": [
           {
            "colorbar": {
             "outlinewidth": 0,
             "ticks": ""
            },
            "type": "choropleth"
           }
          ],
          "contour": [
           {
            "colorbar": {
             "outlinewidth": 0,
             "ticks": ""
            },
            "colorscale": [
             [
              0,
              "#0d0887"
             ],
             [
              0.1111111111111111,
              "#46039f"
             ],
             [
              0.2222222222222222,
              "#7201a8"
             ],
             [
              0.3333333333333333,
              "#9c179e"
             ],
             [
              0.4444444444444444,
              "#bd3786"
             ],
             [
              0.5555555555555556,
              "#d8576b"
             ],
             [
              0.6666666666666666,
              "#ed7953"
             ],
             [
              0.7777777777777778,
              "#fb9f3a"
             ],
             [
              0.8888888888888888,
              "#fdca26"
             ],
             [
              1,
              "#f0f921"
             ]
            ],
            "type": "contour"
           }
          ],
          "contourcarpet": [
           {
            "colorbar": {
             "outlinewidth": 0,
             "ticks": ""
            },
            "type": "contourcarpet"
           }
          ],
          "heatmap": [
           {
            "colorbar": {
             "outlinewidth": 0,
             "ticks": ""
            },
            "colorscale": [
             [
              0,
              "#0d0887"
             ],
             [
              0.1111111111111111,
              "#46039f"
             ],
             [
              0.2222222222222222,
              "#7201a8"
             ],
             [
              0.3333333333333333,
              "#9c179e"
             ],
             [
              0.4444444444444444,
              "#bd3786"
             ],
             [
              0.5555555555555556,
              "#d8576b"
             ],
             [
              0.6666666666666666,
              "#ed7953"
             ],
             [
              0.7777777777777778,
              "#fb9f3a"
             ],
             [
              0.8888888888888888,
              "#fdca26"
             ],
             [
              1,
              "#f0f921"
             ]
            ],
            "type": "heatmap"
           }
          ],
          "heatmapgl": [
           {
            "colorbar": {
             "outlinewidth": 0,
             "ticks": ""
            },
            "colorscale": [
             [
              0,
              "#0d0887"
             ],
             [
              0.1111111111111111,
              "#46039f"
             ],
             [
              0.2222222222222222,
              "#7201a8"
             ],
             [
              0.3333333333333333,
              "#9c179e"
             ],
             [
              0.4444444444444444,
              "#bd3786"
             ],
             [
              0.5555555555555556,
              "#d8576b"
             ],
             [
              0.6666666666666666,
              "#ed7953"
             ],
             [
              0.7777777777777778,
              "#fb9f3a"
             ],
             [
              0.8888888888888888,
              "#fdca26"
             ],
             [
              1,
              "#f0f921"
             ]
            ],
            "type": "heatmapgl"
           }
          ],
          "histogram": [
           {
            "marker": {
             "pattern": {
              "fillmode": "overlay",
              "size": 10,
              "solidity": 0.2
             }
            },
            "type": "histogram"
           }
          ],
          "histogram2d": [
           {
            "colorbar": {
             "outlinewidth": 0,
             "ticks": ""
            },
            "colorscale": [
             [
              0,
              "#0d0887"
             ],
             [
              0.1111111111111111,
              "#46039f"
             ],
             [
              0.2222222222222222,
              "#7201a8"
             ],
             [
              0.3333333333333333,
              "#9c179e"
             ],
             [
              0.4444444444444444,
              "#bd3786"
             ],
             [
              0.5555555555555556,
              "#d8576b"
             ],
             [
              0.6666666666666666,
              "#ed7953"
             ],
             [
              0.7777777777777778,
              "#fb9f3a"
             ],
             [
              0.8888888888888888,
              "#fdca26"
             ],
             [
              1,
              "#f0f921"
             ]
            ],
            "type": "histogram2d"
           }
          ],
          "histogram2dcontour": [
           {
            "colorbar": {
             "outlinewidth": 0,
             "ticks": ""
            },
            "colorscale": [
             [
              0,
              "#0d0887"
             ],
             [
              0.1111111111111111,
              "#46039f"
             ],
             [
              0.2222222222222222,
              "#7201a8"
             ],
             [
              0.3333333333333333,
              "#9c179e"
             ],
             [
              0.4444444444444444,
              "#bd3786"
             ],
             [
              0.5555555555555556,
              "#d8576b"
             ],
             [
              0.6666666666666666,
              "#ed7953"
             ],
             [
              0.7777777777777778,
              "#fb9f3a"
             ],
             [
              0.8888888888888888,
              "#fdca26"
             ],
             [
              1,
              "#f0f921"
             ]
            ],
            "type": "histogram2dcontour"
           }
          ],
          "mesh3d": [
           {
            "colorbar": {
             "outlinewidth": 0,
             "ticks": ""
            },
            "type": "mesh3d"
           }
          ],
          "parcoords": [
           {
            "line": {
             "colorbar": {
              "outlinewidth": 0,
              "ticks": ""
             }
            },
            "type": "parcoords"
           }
          ],
          "pie": [
           {
            "automargin": true,
            "type": "pie"
           }
          ],
          "scatter": [
           {
            "fillpattern": {
             "fillmode": "overlay",
             "size": 10,
             "solidity": 0.2
            },
            "type": "scatter"
           }
          ],
          "scatter3d": [
           {
            "line": {
             "colorbar": {
              "outlinewidth": 0,
              "ticks": ""
             }
            },
            "marker": {
             "colorbar": {
              "outlinewidth": 0,
              "ticks": ""
             }
            },
            "type": "scatter3d"
           }
          ],
          "scattercarpet": [
           {
            "marker": {
             "colorbar": {
              "outlinewidth": 0,
              "ticks": ""
             }
            },
            "type": "scattercarpet"
           }
          ],
          "scattergeo": [
           {
            "marker": {
             "colorbar": {
              "outlinewidth": 0,
              "ticks": ""
             }
            },
            "type": "scattergeo"
           }
          ],
          "scattergl": [
           {
            "marker": {
             "colorbar": {
              "outlinewidth": 0,
              "ticks": ""
             }
            },
            "type": "scattergl"
           }
          ],
          "scattermapbox": [
           {
            "marker": {
             "colorbar": {
              "outlinewidth": 0,
              "ticks": ""
             }
            },
            "type": "scattermapbox"
           }
          ],
          "scatterpolar": [
           {
            "marker": {
             "colorbar": {
              "outlinewidth": 0,
              "ticks": ""
             }
            },
            "type": "scatterpolar"
           }
          ],
          "scatterpolargl": [
           {
            "marker": {
             "colorbar": {
              "outlinewidth": 0,
              "ticks": ""
             }
            },
            "type": "scatterpolargl"
           }
          ],
          "scatterternary": [
           {
            "marker": {
             "colorbar": {
              "outlinewidth": 0,
              "ticks": ""
             }
            },
            "type": "scatterternary"
           }
          ],
          "surface": [
           {
            "colorbar": {
             "outlinewidth": 0,
             "ticks": ""
            },
            "colorscale": [
             [
              0,
              "#0d0887"
             ],
             [
              0.1111111111111111,
              "#46039f"
             ],
             [
              0.2222222222222222,
              "#7201a8"
             ],
             [
              0.3333333333333333,
              "#9c179e"
             ],
             [
              0.4444444444444444,
              "#bd3786"
             ],
             [
              0.5555555555555556,
              "#d8576b"
             ],
             [
              0.6666666666666666,
              "#ed7953"
             ],
             [
              0.7777777777777778,
              "#fb9f3a"
             ],
             [
              0.8888888888888888,
              "#fdca26"
             ],
             [
              1,
              "#f0f921"
             ]
            ],
            "type": "surface"
           }
          ],
          "table": [
           {
            "cells": {
             "fill": {
              "color": "#EBF0F8"
             },
             "line": {
              "color": "white"
             }
            },
            "header": {
             "fill": {
              "color": "#C8D4E3"
             },
             "line": {
              "color": "white"
             }
            },
            "type": "table"
           }
          ]
         },
         "layout": {
          "annotationdefaults": {
           "arrowcolor": "#2a3f5f",
           "arrowhead": 0,
           "arrowwidth": 1
          },
          "autotypenumbers": "strict",
          "coloraxis": {
           "colorbar": {
            "outlinewidth": 0,
            "ticks": ""
           }
          },
          "colorscale": {
           "diverging": [
            [
             0,
             "#8e0152"
            ],
            [
             0.1,
             "#c51b7d"
            ],
            [
             0.2,
             "#de77ae"
            ],
            [
             0.3,
             "#f1b6da"
            ],
            [
             0.4,
             "#fde0ef"
            ],
            [
             0.5,
             "#f7f7f7"
            ],
            [
             0.6,
             "#e6f5d0"
            ],
            [
             0.7,
             "#b8e186"
            ],
            [
             0.8,
             "#7fbc41"
            ],
            [
             0.9,
             "#4d9221"
            ],
            [
             1,
             "#276419"
            ]
           ],
           "sequential": [
            [
             0,
             "#0d0887"
            ],
            [
             0.1111111111111111,
             "#46039f"
            ],
            [
             0.2222222222222222,
             "#7201a8"
            ],
            [
             0.3333333333333333,
             "#9c179e"
            ],
            [
             0.4444444444444444,
             "#bd3786"
            ],
            [
             0.5555555555555556,
             "#d8576b"
            ],
            [
             0.6666666666666666,
             "#ed7953"
            ],
            [
             0.7777777777777778,
             "#fb9f3a"
            ],
            [
             0.8888888888888888,
             "#fdca26"
            ],
            [
             1,
             "#f0f921"
            ]
           ],
           "sequentialminus": [
            [
             0,
             "#0d0887"
            ],
            [
             0.1111111111111111,
             "#46039f"
            ],
            [
             0.2222222222222222,
             "#7201a8"
            ],
            [
             0.3333333333333333,
             "#9c179e"
            ],
            [
             0.4444444444444444,
             "#bd3786"
            ],
            [
             0.5555555555555556,
             "#d8576b"
            ],
            [
             0.6666666666666666,
             "#ed7953"
            ],
            [
             0.7777777777777778,
             "#fb9f3a"
            ],
            [
             0.8888888888888888,
             "#fdca26"
            ],
            [
             1,
             "#f0f921"
            ]
           ]
          },
          "colorway": [
           "#636efa",
           "#EF553B",
           "#00cc96",
           "#ab63fa",
           "#FFA15A",
           "#19d3f3",
           "#FF6692",
           "#B6E880",
           "#FF97FF",
           "#FECB52"
          ],
          "font": {
           "color": "#2a3f5f"
          },
          "geo": {
           "bgcolor": "white",
           "lakecolor": "white",
           "landcolor": "#E5ECF6",
           "showlakes": true,
           "showland": true,
           "subunitcolor": "white"
          },
          "hoverlabel": {
           "align": "left"
          },
          "hovermode": "closest",
          "mapbox": {
           "style": "light"
          },
          "paper_bgcolor": "white",
          "plot_bgcolor": "#E5ECF6",
          "polar": {
           "angularaxis": {
            "gridcolor": "white",
            "linecolor": "white",
            "ticks": ""
           },
           "bgcolor": "#E5ECF6",
           "radialaxis": {
            "gridcolor": "white",
            "linecolor": "white",
            "ticks": ""
           }
          },
          "scene": {
           "xaxis": {
            "backgroundcolor": "#E5ECF6",
            "gridcolor": "white",
            "gridwidth": 2,
            "linecolor": "white",
            "showbackground": true,
            "ticks": "",
            "zerolinecolor": "white"
           },
           "yaxis": {
            "backgroundcolor": "#E5ECF6",
            "gridcolor": "white",
            "gridwidth": 2,
            "linecolor": "white",
            "showbackground": true,
            "ticks": "",
            "zerolinecolor": "white"
           },
           "zaxis": {
            "backgroundcolor": "#E5ECF6",
            "gridcolor": "white",
            "gridwidth": 2,
            "linecolor": "white",
            "showbackground": true,
            "ticks": "",
            "zerolinecolor": "white"
           }
          },
          "shapedefaults": {
           "line": {
            "color": "#2a3f5f"
           }
          },
          "ternary": {
           "aaxis": {
            "gridcolor": "white",
            "linecolor": "white",
            "ticks": ""
           },
           "baxis": {
            "gridcolor": "white",
            "linecolor": "white",
            "ticks": ""
           },
           "bgcolor": "#E5ECF6",
           "caxis": {
            "gridcolor": "white",
            "linecolor": "white",
            "ticks": ""
           }
          },
          "title": {
           "x": 0.05
          },
          "xaxis": {
           "automargin": true,
           "gridcolor": "white",
           "linecolor": "white",
           "ticks": "",
           "title": {
            "standoff": 15
           },
           "zerolinecolor": "white",
           "zerolinewidth": 2
          },
          "yaxis": {
           "automargin": true,
           "gridcolor": "white",
           "linecolor": "white",
           "ticks": "",
           "title": {
            "standoff": 15
           },
           "zerolinecolor": "white",
           "zerolinewidth": 2
          }
         }
        },
        "title": {
         "text": "Optimization History Plot"
        },
        "xaxis": {
         "title": {
          "text": "Trial"
         }
        },
        "yaxis": {
         "title": {
          "text": "Objective Value"
         }
        }
       }
      }
     },
     "metadata": {},
     "output_type": "display_data"
    }
   ],
   "source": [
    "optuna.visualization.plot_optimization_history(study)"
   ]
  },
  {
   "cell_type": "code",
   "execution_count": 19,
   "metadata": {},
   "outputs": [],
   "source": [
    "best_params = study.best_params"
   ]
  },
  {
   "cell_type": "code",
   "execution_count": 20,
   "metadata": {},
   "outputs": [
    {
     "data": {
      "text/plain": [
       "{'n_estimators': 150, 'max_depth': 12, 'min_samples_split': 3}"
      ]
     },
     "execution_count": 20,
     "metadata": {},
     "output_type": "execute_result"
    }
   ],
   "source": [
    "best_params"
   ]
  },
  {
   "cell_type": "markdown",
   "metadata": {},
   "source": [
    "### Use this to train new model"
   ]
  },
  {
   "cell_type": "code",
   "execution_count": 22,
   "metadata": {},
   "outputs": [],
   "source": [
    "best_model = RandomForestClassifier(**best_params)"
   ]
  },
  {
   "cell_type": "code",
   "execution_count": 23,
   "metadata": {},
   "outputs": [
    {
     "data": {
      "text/html": [
       "<style>#sk-container-id-2 {\n",
       "  /* Definition of color scheme common for light and dark mode */\n",
       "  --sklearn-color-text: black;\n",
       "  --sklearn-color-line: gray;\n",
       "  /* Definition of color scheme for unfitted estimators */\n",
       "  --sklearn-color-unfitted-level-0: #fff5e6;\n",
       "  --sklearn-color-unfitted-level-1: #f6e4d2;\n",
       "  --sklearn-color-unfitted-level-2: #ffe0b3;\n",
       "  --sklearn-color-unfitted-level-3: chocolate;\n",
       "  /* Definition of color scheme for fitted estimators */\n",
       "  --sklearn-color-fitted-level-0: #f0f8ff;\n",
       "  --sklearn-color-fitted-level-1: #d4ebff;\n",
       "  --sklearn-color-fitted-level-2: #b3dbfd;\n",
       "  --sklearn-color-fitted-level-3: cornflowerblue;\n",
       "\n",
       "  /* Specific color for light theme */\n",
       "  --sklearn-color-text-on-default-background: var(--sg-text-color, var(--theme-code-foreground, var(--jp-content-font-color1, black)));\n",
       "  --sklearn-color-background: var(--sg-background-color, var(--theme-background, var(--jp-layout-color0, white)));\n",
       "  --sklearn-color-border-box: var(--sg-text-color, var(--theme-code-foreground, var(--jp-content-font-color1, black)));\n",
       "  --sklearn-color-icon: #696969;\n",
       "\n",
       "  @media (prefers-color-scheme: dark) {\n",
       "    /* Redefinition of color scheme for dark theme */\n",
       "    --sklearn-color-text-on-default-background: var(--sg-text-color, var(--theme-code-foreground, var(--jp-content-font-color1, white)));\n",
       "    --sklearn-color-background: var(--sg-background-color, var(--theme-background, var(--jp-layout-color0, #111)));\n",
       "    --sklearn-color-border-box: var(--sg-text-color, var(--theme-code-foreground, var(--jp-content-font-color1, white)));\n",
       "    --sklearn-color-icon: #878787;\n",
       "  }\n",
       "}\n",
       "\n",
       "#sk-container-id-2 {\n",
       "  color: var(--sklearn-color-text);\n",
       "}\n",
       "\n",
       "#sk-container-id-2 pre {\n",
       "  padding: 0;\n",
       "}\n",
       "\n",
       "#sk-container-id-2 input.sk-hidden--visually {\n",
       "  border: 0;\n",
       "  clip: rect(1px 1px 1px 1px);\n",
       "  clip: rect(1px, 1px, 1px, 1px);\n",
       "  height: 1px;\n",
       "  margin: -1px;\n",
       "  overflow: hidden;\n",
       "  padding: 0;\n",
       "  position: absolute;\n",
       "  width: 1px;\n",
       "}\n",
       "\n",
       "#sk-container-id-2 div.sk-dashed-wrapped {\n",
       "  border: 1px dashed var(--sklearn-color-line);\n",
       "  margin: 0 0.4em 0.5em 0.4em;\n",
       "  box-sizing: border-box;\n",
       "  padding-bottom: 0.4em;\n",
       "  background-color: var(--sklearn-color-background);\n",
       "}\n",
       "\n",
       "#sk-container-id-2 div.sk-container {\n",
       "  /* jupyter's `normalize.less` sets `[hidden] { display: none; }`\n",
       "     but bootstrap.min.css set `[hidden] { display: none !important; }`\n",
       "     so we also need the `!important` here to be able to override the\n",
       "     default hidden behavior on the sphinx rendered scikit-learn.org.\n",
       "     See: https://github.com/scikit-learn/scikit-learn/issues/21755 */\n",
       "  display: inline-block !important;\n",
       "  position: relative;\n",
       "}\n",
       "\n",
       "#sk-container-id-2 div.sk-text-repr-fallback {\n",
       "  display: none;\n",
       "}\n",
       "\n",
       "div.sk-parallel-item,\n",
       "div.sk-serial,\n",
       "div.sk-item {\n",
       "  /* draw centered vertical line to link estimators */\n",
       "  background-image: linear-gradient(var(--sklearn-color-text-on-default-background), var(--sklearn-color-text-on-default-background));\n",
       "  background-size: 2px 100%;\n",
       "  background-repeat: no-repeat;\n",
       "  background-position: center center;\n",
       "}\n",
       "\n",
       "/* Parallel-specific style estimator block */\n",
       "\n",
       "#sk-container-id-2 div.sk-parallel-item::after {\n",
       "  content: \"\";\n",
       "  width: 100%;\n",
       "  border-bottom: 2px solid var(--sklearn-color-text-on-default-background);\n",
       "  flex-grow: 1;\n",
       "}\n",
       "\n",
       "#sk-container-id-2 div.sk-parallel {\n",
       "  display: flex;\n",
       "  align-items: stretch;\n",
       "  justify-content: center;\n",
       "  background-color: var(--sklearn-color-background);\n",
       "  position: relative;\n",
       "}\n",
       "\n",
       "#sk-container-id-2 div.sk-parallel-item {\n",
       "  display: flex;\n",
       "  flex-direction: column;\n",
       "}\n",
       "\n",
       "#sk-container-id-2 div.sk-parallel-item:first-child::after {\n",
       "  align-self: flex-end;\n",
       "  width: 50%;\n",
       "}\n",
       "\n",
       "#sk-container-id-2 div.sk-parallel-item:last-child::after {\n",
       "  align-self: flex-start;\n",
       "  width: 50%;\n",
       "}\n",
       "\n",
       "#sk-container-id-2 div.sk-parallel-item:only-child::after {\n",
       "  width: 0;\n",
       "}\n",
       "\n",
       "/* Serial-specific style estimator block */\n",
       "\n",
       "#sk-container-id-2 div.sk-serial {\n",
       "  display: flex;\n",
       "  flex-direction: column;\n",
       "  align-items: center;\n",
       "  background-color: var(--sklearn-color-background);\n",
       "  padding-right: 1em;\n",
       "  padding-left: 1em;\n",
       "}\n",
       "\n",
       "\n",
       "/* Toggleable style: style used for estimator/Pipeline/ColumnTransformer box that is\n",
       "clickable and can be expanded/collapsed.\n",
       "- Pipeline and ColumnTransformer use this feature and define the default style\n",
       "- Estimators will overwrite some part of the style using the `sk-estimator` class\n",
       "*/\n",
       "\n",
       "/* Pipeline and ColumnTransformer style (default) */\n",
       "\n",
       "#sk-container-id-2 div.sk-toggleable {\n",
       "  /* Default theme specific background. It is overwritten whether we have a\n",
       "  specific estimator or a Pipeline/ColumnTransformer */\n",
       "  background-color: var(--sklearn-color-background);\n",
       "}\n",
       "\n",
       "/* Toggleable label */\n",
       "#sk-container-id-2 label.sk-toggleable__label {\n",
       "  cursor: pointer;\n",
       "  display: block;\n",
       "  width: 100%;\n",
       "  margin-bottom: 0;\n",
       "  padding: 0.5em;\n",
       "  box-sizing: border-box;\n",
       "  text-align: center;\n",
       "}\n",
       "\n",
       "#sk-container-id-2 label.sk-toggleable__label-arrow:before {\n",
       "  /* Arrow on the left of the label */\n",
       "  content: \"▸\";\n",
       "  float: left;\n",
       "  margin-right: 0.25em;\n",
       "  color: var(--sklearn-color-icon);\n",
       "}\n",
       "\n",
       "#sk-container-id-2 label.sk-toggleable__label-arrow:hover:before {\n",
       "  color: var(--sklearn-color-text);\n",
       "}\n",
       "\n",
       "/* Toggleable content - dropdown */\n",
       "\n",
       "#sk-container-id-2 div.sk-toggleable__content {\n",
       "  max-height: 0;\n",
       "  max-width: 0;\n",
       "  overflow: hidden;\n",
       "  text-align: left;\n",
       "  /* unfitted */\n",
       "  background-color: var(--sklearn-color-unfitted-level-0);\n",
       "}\n",
       "\n",
       "#sk-container-id-2 div.sk-toggleable__content.fitted {\n",
       "  /* fitted */\n",
       "  background-color: var(--sklearn-color-fitted-level-0);\n",
       "}\n",
       "\n",
       "#sk-container-id-2 div.sk-toggleable__content pre {\n",
       "  margin: 0.2em;\n",
       "  border-radius: 0.25em;\n",
       "  color: var(--sklearn-color-text);\n",
       "  /* unfitted */\n",
       "  background-color: var(--sklearn-color-unfitted-level-0);\n",
       "}\n",
       "\n",
       "#sk-container-id-2 div.sk-toggleable__content.fitted pre {\n",
       "  /* unfitted */\n",
       "  background-color: var(--sklearn-color-fitted-level-0);\n",
       "}\n",
       "\n",
       "#sk-container-id-2 input.sk-toggleable__control:checked~div.sk-toggleable__content {\n",
       "  /* Expand drop-down */\n",
       "  max-height: 200px;\n",
       "  max-width: 100%;\n",
       "  overflow: auto;\n",
       "}\n",
       "\n",
       "#sk-container-id-2 input.sk-toggleable__control:checked~label.sk-toggleable__label-arrow:before {\n",
       "  content: \"▾\";\n",
       "}\n",
       "\n",
       "/* Pipeline/ColumnTransformer-specific style */\n",
       "\n",
       "#sk-container-id-2 div.sk-label input.sk-toggleable__control:checked~label.sk-toggleable__label {\n",
       "  color: var(--sklearn-color-text);\n",
       "  background-color: var(--sklearn-color-unfitted-level-2);\n",
       "}\n",
       "\n",
       "#sk-container-id-2 div.sk-label.fitted input.sk-toggleable__control:checked~label.sk-toggleable__label {\n",
       "  background-color: var(--sklearn-color-fitted-level-2);\n",
       "}\n",
       "\n",
       "/* Estimator-specific style */\n",
       "\n",
       "/* Colorize estimator box */\n",
       "#sk-container-id-2 div.sk-estimator input.sk-toggleable__control:checked~label.sk-toggleable__label {\n",
       "  /* unfitted */\n",
       "  background-color: var(--sklearn-color-unfitted-level-2);\n",
       "}\n",
       "\n",
       "#sk-container-id-2 div.sk-estimator.fitted input.sk-toggleable__control:checked~label.sk-toggleable__label {\n",
       "  /* fitted */\n",
       "  background-color: var(--sklearn-color-fitted-level-2);\n",
       "}\n",
       "\n",
       "#sk-container-id-2 div.sk-label label.sk-toggleable__label,\n",
       "#sk-container-id-2 div.sk-label label {\n",
       "  /* The background is the default theme color */\n",
       "  color: var(--sklearn-color-text-on-default-background);\n",
       "}\n",
       "\n",
       "/* On hover, darken the color of the background */\n",
       "#sk-container-id-2 div.sk-label:hover label.sk-toggleable__label {\n",
       "  color: var(--sklearn-color-text);\n",
       "  background-color: var(--sklearn-color-unfitted-level-2);\n",
       "}\n",
       "\n",
       "/* Label box, darken color on hover, fitted */\n",
       "#sk-container-id-2 div.sk-label.fitted:hover label.sk-toggleable__label.fitted {\n",
       "  color: var(--sklearn-color-text);\n",
       "  background-color: var(--sklearn-color-fitted-level-2);\n",
       "}\n",
       "\n",
       "/* Estimator label */\n",
       "\n",
       "#sk-container-id-2 div.sk-label label {\n",
       "  font-family: monospace;\n",
       "  font-weight: bold;\n",
       "  display: inline-block;\n",
       "  line-height: 1.2em;\n",
       "}\n",
       "\n",
       "#sk-container-id-2 div.sk-label-container {\n",
       "  text-align: center;\n",
       "}\n",
       "\n",
       "/* Estimator-specific */\n",
       "#sk-container-id-2 div.sk-estimator {\n",
       "  font-family: monospace;\n",
       "  border: 1px dotted var(--sklearn-color-border-box);\n",
       "  border-radius: 0.25em;\n",
       "  box-sizing: border-box;\n",
       "  margin-bottom: 0.5em;\n",
       "  /* unfitted */\n",
       "  background-color: var(--sklearn-color-unfitted-level-0);\n",
       "}\n",
       "\n",
       "#sk-container-id-2 div.sk-estimator.fitted {\n",
       "  /* fitted */\n",
       "  background-color: var(--sklearn-color-fitted-level-0);\n",
       "}\n",
       "\n",
       "/* on hover */\n",
       "#sk-container-id-2 div.sk-estimator:hover {\n",
       "  /* unfitted */\n",
       "  background-color: var(--sklearn-color-unfitted-level-2);\n",
       "}\n",
       "\n",
       "#sk-container-id-2 div.sk-estimator.fitted:hover {\n",
       "  /* fitted */\n",
       "  background-color: var(--sklearn-color-fitted-level-2);\n",
       "}\n",
       "\n",
       "/* Specification for estimator info (e.g. \"i\" and \"?\") */\n",
       "\n",
       "/* Common style for \"i\" and \"?\" */\n",
       "\n",
       ".sk-estimator-doc-link,\n",
       "a:link.sk-estimator-doc-link,\n",
       "a:visited.sk-estimator-doc-link {\n",
       "  float: right;\n",
       "  font-size: smaller;\n",
       "  line-height: 1em;\n",
       "  font-family: monospace;\n",
       "  background-color: var(--sklearn-color-background);\n",
       "  border-radius: 1em;\n",
       "  height: 1em;\n",
       "  width: 1em;\n",
       "  text-decoration: none !important;\n",
       "  margin-left: 1ex;\n",
       "  /* unfitted */\n",
       "  border: var(--sklearn-color-unfitted-level-1) 1pt solid;\n",
       "  color: var(--sklearn-color-unfitted-level-1);\n",
       "}\n",
       "\n",
       ".sk-estimator-doc-link.fitted,\n",
       "a:link.sk-estimator-doc-link.fitted,\n",
       "a:visited.sk-estimator-doc-link.fitted {\n",
       "  /* fitted */\n",
       "  border: var(--sklearn-color-fitted-level-1) 1pt solid;\n",
       "  color: var(--sklearn-color-fitted-level-1);\n",
       "}\n",
       "\n",
       "/* On hover */\n",
       "div.sk-estimator:hover .sk-estimator-doc-link:hover,\n",
       ".sk-estimator-doc-link:hover,\n",
       "div.sk-label-container:hover .sk-estimator-doc-link:hover,\n",
       ".sk-estimator-doc-link:hover {\n",
       "  /* unfitted */\n",
       "  background-color: var(--sklearn-color-unfitted-level-3);\n",
       "  color: var(--sklearn-color-background);\n",
       "  text-decoration: none;\n",
       "}\n",
       "\n",
       "div.sk-estimator.fitted:hover .sk-estimator-doc-link.fitted:hover,\n",
       ".sk-estimator-doc-link.fitted:hover,\n",
       "div.sk-label-container:hover .sk-estimator-doc-link.fitted:hover,\n",
       ".sk-estimator-doc-link.fitted:hover {\n",
       "  /* fitted */\n",
       "  background-color: var(--sklearn-color-fitted-level-3);\n",
       "  color: var(--sklearn-color-background);\n",
       "  text-decoration: none;\n",
       "}\n",
       "\n",
       "/* Span, style for the box shown on hovering the info icon */\n",
       ".sk-estimator-doc-link span {\n",
       "  display: none;\n",
       "  z-index: 9999;\n",
       "  position: relative;\n",
       "  font-weight: normal;\n",
       "  right: .2ex;\n",
       "  padding: .5ex;\n",
       "  margin: .5ex;\n",
       "  width: min-content;\n",
       "  min-width: 20ex;\n",
       "  max-width: 50ex;\n",
       "  color: var(--sklearn-color-text);\n",
       "  box-shadow: 2pt 2pt 4pt #999;\n",
       "  /* unfitted */\n",
       "  background: var(--sklearn-color-unfitted-level-0);\n",
       "  border: .5pt solid var(--sklearn-color-unfitted-level-3);\n",
       "}\n",
       "\n",
       ".sk-estimator-doc-link.fitted span {\n",
       "  /* fitted */\n",
       "  background: var(--sklearn-color-fitted-level-0);\n",
       "  border: var(--sklearn-color-fitted-level-3);\n",
       "}\n",
       "\n",
       ".sk-estimator-doc-link:hover span {\n",
       "  display: block;\n",
       "}\n",
       "\n",
       "/* \"?\"-specific style due to the `<a>` HTML tag */\n",
       "\n",
       "#sk-container-id-2 a.estimator_doc_link {\n",
       "  float: right;\n",
       "  font-size: 1rem;\n",
       "  line-height: 1em;\n",
       "  font-family: monospace;\n",
       "  background-color: var(--sklearn-color-background);\n",
       "  border-radius: 1rem;\n",
       "  height: 1rem;\n",
       "  width: 1rem;\n",
       "  text-decoration: none;\n",
       "  /* unfitted */\n",
       "  color: var(--sklearn-color-unfitted-level-1);\n",
       "  border: var(--sklearn-color-unfitted-level-1) 1pt solid;\n",
       "}\n",
       "\n",
       "#sk-container-id-2 a.estimator_doc_link.fitted {\n",
       "  /* fitted */\n",
       "  border: var(--sklearn-color-fitted-level-1) 1pt solid;\n",
       "  color: var(--sklearn-color-fitted-level-1);\n",
       "}\n",
       "\n",
       "/* On hover */\n",
       "#sk-container-id-2 a.estimator_doc_link:hover {\n",
       "  /* unfitted */\n",
       "  background-color: var(--sklearn-color-unfitted-level-3);\n",
       "  color: var(--sklearn-color-background);\n",
       "  text-decoration: none;\n",
       "}\n",
       "\n",
       "#sk-container-id-2 a.estimator_doc_link.fitted:hover {\n",
       "  /* fitted */\n",
       "  background-color: var(--sklearn-color-fitted-level-3);\n",
       "}\n",
       "</style><div id=\"sk-container-id-2\" class=\"sk-top-container\"><div class=\"sk-text-repr-fallback\"><pre>RandomForestClassifier(max_depth=12, min_samples_split=3, n_estimators=150)</pre><b>In a Jupyter environment, please rerun this cell to show the HTML representation or trust the notebook. <br />On GitHub, the HTML representation is unable to render, please try loading this page with nbviewer.org.</b></div><div class=\"sk-container\" hidden><div class=\"sk-item\"><div class=\"sk-estimator fitted sk-toggleable\"><input class=\"sk-toggleable__control sk-hidden--visually\" id=\"sk-estimator-id-2\" type=\"checkbox\" checked><label for=\"sk-estimator-id-2\" class=\"sk-toggleable__label fitted sk-toggleable__label-arrow fitted\">&nbsp;&nbsp;RandomForestClassifier<a class=\"sk-estimator-doc-link fitted\" rel=\"noreferrer\" target=\"_blank\" href=\"https://scikit-learn.org/1.5/modules/generated/sklearn.ensemble.RandomForestClassifier.html\">?<span>Documentation for RandomForestClassifier</span></a><span class=\"sk-estimator-doc-link fitted\">i<span>Fitted</span></span></label><div class=\"sk-toggleable__content fitted\"><pre>RandomForestClassifier(max_depth=12, min_samples_split=3, n_estimators=150)</pre></div> </div></div></div></div>"
      ],
      "text/plain": [
       "RandomForestClassifier(max_depth=12, min_samples_split=3, n_estimators=150)"
      ]
     },
     "execution_count": 23,
     "metadata": {},
     "output_type": "execute_result"
    }
   ],
   "source": [
    "best_model.fit(X_train, y_train)"
   ]
  },
  {
   "cell_type": "code",
   "execution_count": 24,
   "metadata": {},
   "outputs": [
    {
     "data": {
      "text/plain": [
       "['optimized_model.pkl']"
      ]
     },
     "execution_count": 24,
     "metadata": {},
     "output_type": "execute_result"
    }
   ],
   "source": [
    "import joblib\n",
    "joblib.dump(best_model, \"optimized_model.pkl\")"
   ]
  },
  {
   "cell_type": "code",
   "execution_count": 25,
   "metadata": {},
   "outputs": [],
   "source": [
    "loaded_model = joblib.load('optimized_model.pkl')"
   ]
  }
 ],
 "metadata": {
  "kernelspec": {
   "display_name": "Python 3",
   "language": "python",
   "name": "python3"
  },
  "language_info": {
   "codemirror_mode": {
    "name": "ipython",
    "version": 3
   },
   "file_extension": ".py",
   "mimetype": "text/x-python",
   "name": "python",
   "nbconvert_exporter": "python",
   "pygments_lexer": "ipython3",
   "version": "3.10.6"
  }
 },
 "nbformat": 4,
 "nbformat_minor": 2
}
